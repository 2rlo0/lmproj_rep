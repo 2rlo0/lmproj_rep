{
 "cells": [
  {
   "cell_type": "markdown",
   "id": "b341af40",
   "metadata": {},
   "source": [
    "LCEL LangChainExpressionLanguage\n",
    "프롬프트 > LLM input > chain input > output > prompt\n",
    "\n",
    "Runnable 인터페이스 > 랭체인 구현하고 있다."
   ]
  },
  {
   "cell_type": "markdown",
   "id": "bd6ac55b",
   "metadata": {},
   "source": [
    "# SequentialChain"
   ]
  },
  {
   "cell_type": "code",
   "execution_count": 1,
   "id": "8d90ff8f",
   "metadata": {},
   "outputs": [
    {
     "data": {
      "text/plain": [
       "ChatOpenAI(client=<openai.resources.chat.completions.completions.Completions object at 0x0000024B0D3A3770>, async_client=<openai.resources.chat.completions.completions.AsyncCompletions object at 0x0000024B0D9045F0>, root_client=<openai.OpenAI object at 0x0000024B0BCC6990>, root_async_client=<openai.AsyncOpenAI object at 0x0000024B0D86A5A0>, model_name='gpt-4o-mini', model_kwargs={}, openai_api_key=SecretStr('**********'))"
      ]
     },
     "execution_count": 1,
     "metadata": {},
     "output_type": "execute_result"
    }
   ],
   "source": [
    "from langchain_openai import ChatOpenAI\n",
    "llm = ChatOpenAI(model='gpt-4o-mini')\n",
    "llm"
   ]
  },
  {
   "cell_type": "code",
   "execution_count": 2,
   "id": "454e0532",
   "metadata": {},
   "outputs": [
    {
     "name": "stderr",
     "output_type": "stream",
     "text": [
      "C:\\Users\\Admin\\AppData\\Local\\Temp\\ipykernel_15572\\1215960527.py:5: LangChainDeprecationWarning: The class `LLMChain` was deprecated in LangChain 0.1.17 and will be removed in 1.0. Use :meth:`~RunnableSequence, e.g., `prompt | llm`` instead.\n",
      "  chain = LLMChain(llm=llm, prompt=template)\n"
     ]
    },
    {
     "data": {
      "text/plain": [
       "LLMChain(verbose=False, prompt=PromptTemplate(input_variables=['city'], input_types={}, partial_variables={}, template='{city}의 랜드마크는 어디인가요?'), llm=ChatOpenAI(client=<openai.resources.chat.completions.completions.Completions object at 0x0000024B0D3A3770>, async_client=<openai.resources.chat.completions.completions.AsyncCompletions object at 0x0000024B0D9045F0>, root_client=<openai.OpenAI object at 0x0000024B0BCC6990>, root_async_client=<openai.AsyncOpenAI object at 0x0000024B0D86A5A0>, model_name='gpt-4o-mini', model_kwargs={}, openai_api_key=SecretStr('**********')), output_parser=StrOutputParser(), llm_kwargs={})"
      ]
     },
     "execution_count": 2,
     "metadata": {},
     "output_type": "execute_result"
    }
   ],
   "source": [
    "from langchain.prompts import PromptTemplate\n",
    "from langchain.chains import LLMChain\n",
    "\n",
    "template = PromptTemplate.from_template(\"{city}의 랜드마크는 어디인가요?\")\n",
    "chain = LLMChain(llm=llm, prompt=template)\n",
    "chain"
   ]
  },
  {
   "cell_type": "code",
   "execution_count": 3,
   "id": "1817a2f4",
   "metadata": {},
   "outputs": [
    {
     "data": {
      "text/plain": [
       "{'city': '파리',\n",
       " 'text': \"파리의 랜드마크로는 다음과 같은 유명한 장소들이 있습니다:\\n\\n1. **에펠탑 (Tour Eiffel)** - 파리의 상징적인 구조물로, 1889년에 세워졌습니다.\\n2. **루브르 박물관 (Musée du Louvre)** - 세계에서 가장 유명한 미술관 중 하나로, 많은 걸작들이 전시되어 있습니다.\\n3. **노트르담 대성당 (Cathédrale Notre-Dame de Paris)** - 고딕 건축의 대표작으로, 아름다운 스테인드글라스와 조각으로 유명합니다.\\n4. **샹젤리제 거리 (Avenue des Champs-Élysées)** - 유명한 쇼핑 거리로, 개선문과 연결되어 있습니다.\\n5. **오르세 미술관 (Musée d'Orsay)** - 인상파 예술가들의 작품을 주로 전시하는 미술관입니다.\\n6. **몽마르트 언덕 (Montmartre)** - 예술과 문화의 중심지로 알려진 지역으로, 사크레쾨르 대성당이 위치해 있습니다.\\n7. **개선문 (Arc de Triomphe)** - 나폴레옹 시대에 건설된 기념물로, 파리의 중심부에 있습니다.\\n\\n이외에도 파리에는 많은 아름다운 장소와 문화유산이 있습니다!\"}"
      ]
     },
     "execution_count": 3,
     "metadata": {},
     "output_type": "execute_result"
    }
   ],
   "source": [
    "chain.invoke({'city':'파리'})"
   ]
  },
  {
   "cell_type": "markdown",
   "id": "e96c5e66",
   "metadata": {},
   "source": [
    "# LCEL 파이프라인 구성"
   ]
  },
  {
   "cell_type": "code",
   "execution_count": 4,
   "id": "f0a100b1",
   "metadata": {},
   "outputs": [
    {
     "data": {
      "text/plain": [
       "PromptTemplate(input_variables=['city'], input_types={}, partial_variables={}, template='{city}의 랜드마크는 어디인가요?')\n",
       "| ChatOpenAI(client=<openai.resources.chat.completions.completions.Completions object at 0x0000024B0D3A3770>, async_client=<openai.resources.chat.completions.completions.AsyncCompletions object at 0x0000024B0D9045F0>, root_client=<openai.OpenAI object at 0x0000024B0BCC6990>, root_async_client=<openai.AsyncOpenAI object at 0x0000024B0D86A5A0>, model_name='gpt-4o-mini', model_kwargs={}, openai_api_key=SecretStr('**********'))"
      ]
     },
     "execution_count": 4,
     "metadata": {},
     "output_type": "execute_result"
    }
   ],
   "source": [
    "chain_lcel = template | llm\n",
    "chain_lcel"
   ]
  },
  {
   "cell_type": "code",
   "execution_count": 5,
   "id": "602ad6b9",
   "metadata": {},
   "outputs": [
    {
     "data": {
      "text/plain": [
       "AIMessage(content=\"파리의 랜드마크로는 여러 곳이 있지만, 가장 유명한 것들은 다음과 같습니다.\\n\\n1. **에펠탑 (Tour Eiffel)**: 파리의 상징적인 구조물로, 도시의 전경을 감상할 수 있는 인기 명소입니다.\\n2. **루브르 박물관 (Musée du Louvre)**: 세계에서 가장 큰 미술관 중 하나로, 모나리자와 많은 세계적인 예술작품을 소장하고 있습니다.\\n3. **샤틀레 성 (Basilique du Sacré-Cœur)**: 몽마르트르 언덕에 위치한 아름다운 성당으로, 도시의 전망을 한눈에 볼 수 있습니다.\\n4. **노트르담 대성당 (Cathédrale Notre-Dame de Paris)**: 고딕 양식의 대성당으로, 현재 복구 작업이 진행 중입니다.\\n5. **오르세 미술관 (Musée d'Orsay)**: 인상파와 후기 인상파 작품을 중심으로 한 미술관입니다.\\n6. **튈르리 정원 (Jardin des Tuileries)**: 루브르와 개선문 사이에 위치한 아름다운 공원입니다.\\n7. **샹젤리제 거리 (Champs-Élysées)**: 명품 쇼핑과 레스토랑이 즐비한 파리의 주요 거리입니다.\\n\\n이 외에도 파리에는 많은 아름다운 장소와 역사적인 건물들이 있습니다.\", additional_kwargs={'refusal': None}, response_metadata={'token_usage': {'completion_tokens': 319, 'prompt_tokens': 19, 'total_tokens': 338, 'completion_tokens_details': {'accepted_prediction_tokens': 0, 'audio_tokens': 0, 'reasoning_tokens': 0, 'rejected_prediction_tokens': 0}, 'prompt_tokens_details': {'audio_tokens': 0, 'cached_tokens': 0}}, 'model_name': 'gpt-4o-mini-2024-07-18', 'system_fingerprint': 'fp_8bda4d3a2c', 'id': 'chatcmpl-CDMyorUtusXDapIlRk7Vvz6MMEEJX', 'service_tier': 'default', 'finish_reason': 'stop', 'logprobs': None}, id='run--bc810931-4ff6-4bae-a939-190ca709f0ab-0', usage_metadata={'input_tokens': 19, 'output_tokens': 319, 'total_tokens': 338, 'input_token_details': {'audio': 0, 'cache_read': 0}, 'output_token_details': {'audio': 0, 'reasoning': 0}})"
      ]
     },
     "execution_count": 5,
     "metadata": {},
     "output_type": "execute_result"
    }
   ],
   "source": [
    "chain_lcel.invoke({'city':'파리'})"
   ]
  },
  {
   "cell_type": "markdown",
   "id": "ebbbc1af",
   "metadata": {},
   "source": [
    "# Sequential chain의 구성"
   ]
  },
  {
   "cell_type": "code",
   "execution_count": 6,
   "id": "3a0fc639",
   "metadata": {},
   "outputs": [
    {
     "data": {
      "text/plain": [
       "SequentialChain(verbose=False, chains=[LLMChain(verbose=True, prompt=PromptTemplate(input_variables=['city'], input_types={}, partial_variables={}, template='{city}의 랜드마크 1개만 알려주세요. 설명은 필요없고 이름만 1개 알려주세요.'), llm=ChatOpenAI(client=<openai.resources.chat.completions.completions.Completions object at 0x0000024B0D3A3770>, async_client=<openai.resources.chat.completions.completions.AsyncCompletions object at 0x0000024B0D9045F0>, root_client=<openai.OpenAI object at 0x0000024B0BCC6990>, root_async_client=<openai.AsyncOpenAI object at 0x0000024B0D86A5A0>, model_name='gpt-4o-mini', model_kwargs={}, openai_api_key=SecretStr('**********')), output_key='landmark', output_parser=StrOutputParser(), llm_kwargs={}), LLMChain(verbose=False, prompt=PromptTemplate(input_variables=['landmark', 'transport'], input_types={}, partial_variables={}, template='{landmark}에 {transport}로 가는 방법이 무엇인가요?'), llm=ChatOpenAI(client=<openai.resources.chat.completions.completions.Completions object at 0x0000024B0D3A3770>, async_client=<openai.resources.chat.completions.completions.AsyncCompletions object at 0x0000024B0D9045F0>, root_client=<openai.OpenAI object at 0x0000024B0BCC6990>, root_async_client=<openai.AsyncOpenAI object at 0x0000024B0D86A5A0>, model_name='gpt-4o-mini', model_kwargs={}, openai_api_key=SecretStr('**********')), output_parser=StrOutputParser(), llm_kwargs={})], input_variables=['city', 'transport'], output_variables=['text'])"
      ]
     },
     "execution_count": 6,
     "metadata": {},
     "output_type": "execute_result"
    }
   ],
   "source": [
    "from langchain.chains import SequentialChain\n",
    "\n",
    "prompt1 = PromptTemplate.from_template('{city}의 랜드마크 1개만 알려주세요. 설명은 필요없고 이름만 1개 알려주세요.')\n",
    "prompt2 = PromptTemplate.from_template('{landmark}에 {transport}로 가는 방법이 무엇인가요?')\n",
    "\n",
    "chain1 = LLMChain(llm=llm, prompt=prompt1, output_key='landmark', verbose=True)\n",
    "chain2 = LLMChain(llm=llm, prompt=prompt2)\n",
    "\n",
    "seq_chain = SequentialChain(chains=[chain1, chain2], input_variables=['city','transport'])\n",
    "seq_chain"
   ]
  },
  {
   "cell_type": "code",
   "execution_count": 7,
   "id": "064de69b",
   "metadata": {},
   "outputs": [
    {
     "name": "stdout",
     "output_type": "stream",
     "text": [
      "\n",
      "\n",
      "\u001b[1m> Entering new LLMChain chain...\u001b[0m\n",
      "Prompt after formatting:\n",
      "\u001b[32;1m\u001b[1;3mseoul의 랜드마크 1개만 알려주세요. 설명은 필요없고 이름만 1개 알려주세요.\u001b[0m\n",
      "\n",
      "\u001b[1m> Finished chain.\u001b[0m\n"
     ]
    },
    {
     "data": {
      "text/plain": [
       "{'city': 'seoul',\n",
       " 'transport': '지하철',\n",
       " 'text': 'Namsan Seoul Tower에 가기 위해 지하철을 이용하는 방법은 다음과 같습니다:\\n\\n1. **지하철 노선 선택**: \\n   - 서울 지하철 4호선을 타고 **동대문역사문화공원역**에서 하차 후, 3호선으로 환승합니다.\\n   - 또는, 3호선을 타고 ** 을지로 3가역**에서 하차한 후, 2호선으로 환승하는 방법도 있습니다.\\n\\n2. **Namsan 서울타워 가는 방법**:\\n   - 동대문역사문화공원역에서 3호선을 타고 **충무로역**에서 하차합니다.\\n   - 충무로역 3, 4번 출구로 나가시면 Namsan 서울타워 가는 케이블카 정류장까지 도보로 이동할 수 있습니다.\\n\\n3. **케이블카 또는 도보**:\\n   - Namsan 서울타워에 올라가려면 케이블카를 이용하거나, 도보로 올라가는 길도 있습니다.\\n\\n이 외에도 Namsan 서울타워에 가는 버스 노선도 있으니 참고하시기 바랍니다.'}"
      ]
     },
     "execution_count": 7,
     "metadata": {},
     "output_type": "execute_result"
    }
   ],
   "source": [
    "seq_chain.invoke({'city':'seoul', 'transport':'지하철'})"
   ]
  },
  {
   "cell_type": "code",
   "execution_count": null,
   "id": "5f7631b0",
   "metadata": {},
   "outputs": [],
   "source": []
  }
 ],
 "metadata": {
  "kernelspec": {
   "display_name": "prompting_env",
   "language": "python",
   "name": "python3"
  },
  "language_info": {
   "codemirror_mode": {
    "name": "ipython",
    "version": 3
   },
   "file_extension": ".py",
   "mimetype": "text/x-python",
   "name": "python",
   "nbconvert_exporter": "python",
   "pygments_lexer": "ipython3",
   "version": "3.12.11"
  }
 },
 "nbformat": 4,
 "nbformat_minor": 5
}
