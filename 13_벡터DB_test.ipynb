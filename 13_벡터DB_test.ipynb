{
 "cells": [
  {
   "cell_type": "code",
   "execution_count": 64,
   "id": "a5a8c1b8",
   "metadata": {},
   "outputs": [],
   "source": [
    "from dotenv import load_dotenv\n",
    "import os\n",
    "\n",
    "load_dotenv()\n",
    "PINECONE_API_KEY = os.getenv(\"PINECONE_API_KEY\")"
   ]
  },
  {
   "cell_type": "code",
   "execution_count": 5,
   "id": "b4473afe",
   "metadata": {},
   "outputs": [
    {
     "name": "stdout",
     "output_type": "stream",
     "text": [
      "Collecting pinecone\n",
      "  Downloading pinecone-7.3.0-py3-none-any.whl.metadata (9.5 kB)\n",
      "Requirement already satisfied: certifi>=2019.11.17 in c:\\users\\admin\\miniconda3\\envs\\prompting_env\\lib\\site-packages (from pinecone) (2025.8.3)\n",
      "Collecting pinecone-plugin-assistant<2.0.0,>=1.6.0 (from pinecone)\n",
      "  Downloading pinecone_plugin_assistant-1.8.0-py3-none-any.whl.metadata (30 kB)\n",
      "Collecting pinecone-plugin-interface<0.0.8,>=0.0.7 (from pinecone)\n",
      "  Downloading pinecone_plugin_interface-0.0.7-py3-none-any.whl.metadata (1.2 kB)\n",
      "Requirement already satisfied: python-dateutil>=2.5.3 in c:\\users\\admin\\miniconda3\\envs\\prompting_env\\lib\\site-packages (from pinecone) (2.9.0.post0)\n",
      "Requirement already satisfied: typing-extensions>=3.7.4 in c:\\users\\admin\\miniconda3\\envs\\prompting_env\\lib\\site-packages (from pinecone) (4.14.1)\n",
      "Requirement already satisfied: urllib3>=1.26.5 in c:\\users\\admin\\miniconda3\\envs\\prompting_env\\lib\\site-packages (from pinecone) (2.5.0)\n",
      "Collecting packaging<25.0,>=24.2 (from pinecone-plugin-assistant<2.0.0,>=1.6.0->pinecone)\n",
      "  Downloading packaging-24.2-py3-none-any.whl.metadata (3.2 kB)\n",
      "Requirement already satisfied: requests<3.0.0,>=2.32.3 in c:\\users\\admin\\miniconda3\\envs\\prompting_env\\lib\\site-packages (from pinecone-plugin-assistant<2.0.0,>=1.6.0->pinecone) (2.32.5)\n",
      "Requirement already satisfied: charset_normalizer<4,>=2 in c:\\users\\admin\\miniconda3\\envs\\prompting_env\\lib\\site-packages (from requests<3.0.0,>=2.32.3->pinecone-plugin-assistant<2.0.0,>=1.6.0->pinecone) (3.4.3)\n",
      "Requirement already satisfied: idna<4,>=2.5 in c:\\users\\admin\\miniconda3\\envs\\prompting_env\\lib\\site-packages (from requests<3.0.0,>=2.32.3->pinecone-plugin-assistant<2.0.0,>=1.6.0->pinecone) (3.10)\n",
      "Requirement already satisfied: six>=1.5 in c:\\users\\admin\\miniconda3\\envs\\prompting_env\\lib\\site-packages (from python-dateutil>=2.5.3->pinecone) (1.17.0)\n",
      "Downloading pinecone-7.3.0-py3-none-any.whl (587 kB)\n",
      "   ---------------------------------------- 0.0/587.6 kB ? eta -:--:--\n",
      "   ---------------------------------------- 0.0/587.6 kB ? eta -:--:--\n",
      "   ----------------- ---------------------- 262.1/587.6 kB ? eta -:--:--\n",
      "   ----------------- ---------------------- 262.1/587.6 kB ? eta -:--:--\n",
      "   ----------------- ---------------------- 262.1/587.6 kB ? eta -:--:--\n",
      "   --------------------------------- ---- 524.3/587.6 kB 465.6 kB/s eta 0:00:01\n",
      "   ---------------------------------------- 587.6/587.6 kB 507.7 kB/s  0:00:01\n",
      "Downloading pinecone_plugin_assistant-1.8.0-py3-none-any.whl (259 kB)\n",
      "Downloading packaging-24.2-py3-none-any.whl (65 kB)\n",
      "Downloading pinecone_plugin_interface-0.0.7-py3-none-any.whl (6.2 kB)\n",
      "Installing collected packages: pinecone-plugin-interface, packaging, pinecone-plugin-assistant, pinecone\n",
      "\n",
      "  Attempting uninstall: packaging\n",
      "\n",
      "    Found existing installation: packaging 25.0\n",
      "\n",
      "    Uninstalling packaging-25.0:\n",
      "\n",
      "      Successfully uninstalled packaging-25.0\n",
      "\n",
      "   -------------------- ------------------- 2/4 [pinecone-plugin-assistant]\n",
      "   -------------------- ------------------- 2/4 [pinecone-plugin-assistant]\n",
      "   ------------------------------ --------- 3/4 [pinecone]\n",
      "   ------------------------------ --------- 3/4 [pinecone]\n",
      "   ------------------------------ --------- 3/4 [pinecone]\n",
      "   ---------------------------------------- 4/4 [pinecone]\n",
      "\n",
      "Successfully installed packaging-24.2 pinecone-7.3.0 pinecone-plugin-assistant-1.8.0 pinecone-plugin-interface-0.0.7\n"
     ]
    },
    {
     "name": "stderr",
     "output_type": "stream",
     "text": [
      "ERROR: pip's dependency resolver does not currently take into account all the packages that are installed. This behaviour is the source of the following dependency conflicts.\n",
      "langchain-upstage 0.7.3 requires tokenizers<0.21.0,>=0.20.0, but you have tokenizers 0.22.0 which is incompatible.\n"
     ]
    }
   ],
   "source": [
    "!pip install pinecone"
   ]
  },
  {
   "cell_type": "code",
   "execution_count": 65,
   "id": "da864490",
   "metadata": {},
   "outputs": [],
   "source": [
    "from pinecone import Pinecone\n",
    "# 클라이언트 생성\n",
    "pinecone_client = Pinecone(api_key=PINECONE_API_KEY)"
   ]
  },
  {
   "cell_type": "markdown",
   "id": "acf75761",
   "metadata": {},
   "source": [
    "# index 생성"
   ]
  },
  {
   "cell_type": "code",
   "execution_count": 43,
   "id": "44426ecc",
   "metadata": {},
   "outputs": [
    {
     "data": {
      "text/plain": [
       "{\n",
       "    \"name\": \"embedding-3d\",\n",
       "    \"metric\": \"cosine\",\n",
       "    \"host\": \"embedding-3d-ou15dnm.svc.aped-4627-b74a.pinecone.io\",\n",
       "    \"spec\": {\n",
       "        \"serverless\": {\n",
       "            \"cloud\": \"aws\",\n",
       "            \"region\": \"us-east-1\"\n",
       "        }\n",
       "    },\n",
       "    \"status\": {\n",
       "        \"ready\": true,\n",
       "        \"state\": \"Ready\"\n",
       "    },\n",
       "    \"vector_type\": \"dense\",\n",
       "    \"dimension\": 3,\n",
       "    \"deletion_protection\": \"disabled\",\n",
       "    \"tags\": null\n",
       "}"
      ]
     },
     "execution_count": 43,
     "metadata": {},
     "output_type": "execute_result"
    }
   ],
   "source": [
    "from pinecone import ServerlessSpec\n",
    "pinecone_client.create_index(\n",
    "    name='embedding-3d', # 인덱스 이름\n",
    "    dimension=3,\n",
    "    metric='cosine',\n",
    "    spec=ServerlessSpec(\n",
    "        cloud='aws', # 서버없이 \n",
    "        region='us-east-1'\n",
    "    )\n",
    ")"
   ]
  },
  {
   "cell_type": "code",
   "execution_count": 44,
   "id": "fd14b236",
   "metadata": {},
   "outputs": [
    {
     "data": {
      "text/plain": [
       "<pinecone.db_data.index.Index at 0x1d058d844d0>"
      ]
     },
     "execution_count": 44,
     "metadata": {},
     "output_type": "execute_result"
    }
   ],
   "source": [
    "index = pinecone_client.Index('embedding-3d')\n",
    "index"
   ]
  },
  {
   "cell_type": "code",
   "execution_count": 45,
   "id": "6524e284",
   "metadata": {},
   "outputs": [
    {
     "data": {
      "text/plain": [
       "{'dimension': 3,\n",
       " 'index_fullness': 0.0,\n",
       " 'metric': 'cosine',\n",
       " 'namespaces': {},\n",
       " 'total_vector_count': 0,\n",
       " 'vector_type': 'dense'}"
      ]
     },
     "execution_count": 45,
     "metadata": {},
     "output_type": "execute_result"
    }
   ],
   "source": [
    "index.describe_index_stats() # 현재 인덱스의 상태"
   ]
  },
  {
   "cell_type": "code",
   "execution_count": 46,
   "id": "2d3e3c08",
   "metadata": {},
   "outputs": [],
   "source": [
    "for ids in index.list(namespace='embedding-3d-ns1'):\n",
    "    print(ids)"
   ]
  },
  {
   "cell_type": "markdown",
   "id": "0242a282",
   "metadata": {},
   "source": [
    "# pinecone data 형식\n",
    "### vector db의 모델링 지정\n",
    "[{'id': 'vec1' , 'values': [1.0, 1.5, 2.0], 'metadata': {'genre':'drama'}},\n",
    "{'id': 'vec2' , 'values': [2.0, 1.5, 0.5], 'metadata': {'genre':'action'}},\n",
    "{'id': 'vec3' , 'values': [0.1, 0.3, 0.5], 'metadata': {'genre':'drama'}},\n",
    "{'id': 'vec4' , 'values': [0.3, 1.7, 1.4], 'metadata': {'genre':'drama'}},\n",
    "{'id': 'vec5' , 'values': [1.5, 1.2, 3.4], 'metadata': {'genre':'action'}},\n",
    "{'id': 'vec6' , 'values': [2.2, 0.8, 2.7], 'metadata': {'genre':'action'}},\n",
    "] \n",
    "## # 지정해준 3차원 -> values의 차원!!"
   ]
  },
  {
   "cell_type": "code",
   "execution_count": 47,
   "id": "56b9d9f8",
   "metadata": {},
   "outputs": [
    {
     "data": {
      "text/plain": [
       "{'upserted_count': 6}"
      ]
     },
     "execution_count": 47,
     "metadata": {},
     "output_type": "execute_result"
    }
   ],
   "source": [
    "index.upsert(\n",
    "    vectors = [{'id': 'vec1' , 'values': [1.0, 1.5, 2.0], 'metadata': {'genre':'drama'}},\n",
    "    {'id': 'vec2' , 'values': [2.0, 1.5, 0.5], 'metadata': {'genre':'action'}},\n",
    "    {'id': 'vec3' , 'values': [0.1, 0.3, 0.5], 'metadata': {'genre':'drama'}},\n",
    "    {'id': 'vec4' , 'values': [0.3, 1.7, 1.4], 'metadata': {'genre':'drama'}},\n",
    "    {'id': 'vec5' , 'values': [1.5, 1.2, 3.4], 'metadata': {'genre':'action'}},\n",
    "    {'id': 'vec6' , 'values': [2.2, 0.8, 2.7], 'metadata': {'genre':'action'}},\n",
    "    ],\n",
    "    namespace='embedding-3d-ns1'\n",
    ") \n",
    "# upsert = update + insert. 없으면 insert, 있으면 update"
   ]
  },
  {
   "cell_type": "code",
   "execution_count": 48,
   "id": "612ea90c",
   "metadata": {},
   "outputs": [
    {
     "data": {
      "text/plain": [
       "{'dimension': 3,\n",
       " 'index_fullness': 0.0,\n",
       " 'metric': 'cosine',\n",
       " 'namespaces': {},\n",
       " 'total_vector_count': 0,\n",
       " 'vector_type': 'dense'}"
      ]
     },
     "execution_count": 48,
     "metadata": {},
     "output_type": "execute_result"
    }
   ],
   "source": [
    "index.describe_index_stats()"
   ]
  },
  {
   "cell_type": "markdown",
   "id": "4c416c1d",
   "metadata": {},
   "source": [
    "# id list"
   ]
  },
  {
   "cell_type": "code",
   "execution_count": 49,
   "id": "d9ca9fc7",
   "metadata": {},
   "outputs": [],
   "source": [
    "for ids in index.list(namespace='embedding-3d-ns1'):\n",
    "    print(ids)"
   ]
  },
  {
   "cell_type": "markdown",
   "id": "d80dd5c1",
   "metadata": {},
   "source": [
    "# query"
   ]
  },
  {
   "cell_type": "code",
   "execution_count": 50,
   "id": "d4aa86be",
   "metadata": {},
   "outputs": [
    {
     "data": {
      "text/plain": [
       "{'matches': [], 'namespace': 'embedding-3d-ns1', 'usage': {'read_units': 1}}"
      ]
     },
     "execution_count": 50,
     "metadata": {},
     "output_type": "execute_result"
    }
   ],
   "source": [
    "response = index.query(\n",
    "    namespace='embedding-3d-ns1',\n",
    "    vector=[0.1, 0.4, 0.7], # 질의 벡터\n",
    "    top_k=3, # 몇개 결과\n",
    "    include_values=True,\n",
    "    include_metadata=True,\n",
    "    filter={'genre':{'$eq':'drama'}} # 메타정보\n",
    ")\n",
    "response"
   ]
  },
  {
   "cell_type": "code",
   "execution_count": 51,
   "id": "53c0e111",
   "metadata": {},
   "outputs": [
    {
     "data": {
      "text/plain": [
       "{'matches': [], 'namespace': '', 'usage': {'read_units': 1}}"
      ]
     },
     "execution_count": 51,
     "metadata": {},
     "output_type": "execute_result"
    }
   ],
   "source": [
    "response = index.query(\n",
    "\n",
    "    vector=[0.1, 0.4, 0.7], # 질의 벡터\n",
    "    top_k=3, # 몇개 결과\n",
    "    include_values=True,\n",
    "    include_metadata=True,\n",
    "    filter={'genre':{'$eq':'drama'}} # 메타정보\n",
    ")\n",
    "response"
   ]
  },
  {
   "cell_type": "code",
   "execution_count": 52,
   "id": "a48d17cc",
   "metadata": {},
   "outputs": [
    {
     "name": "stdout",
     "output_type": "stream",
     "text": [
      "['vec1', 'vec2', 'vec3', 'vec4', 'vec5', 'vec6']\n"
     ]
    }
   ],
   "source": [
    "ns = 'embedding-3d-ns1'\n",
    "for ids in index.list(namespace=ns):\n",
    "    print(ids)"
   ]
  },
  {
   "cell_type": "markdown",
   "id": "39b93b40",
   "metadata": {},
   "source": [
    "# fetch"
   ]
  },
  {
   "cell_type": "code",
   "execution_count": 53,
   "id": "43d3642f",
   "metadata": {},
   "outputs": [
    {
     "data": {
      "text/plain": [
       "FetchResponse(namespace='embedding-3d-ns1', vectors={'vec3': Vector(id='vec3', values=[0.1, 0.3, 0.5], metadata={'genre': 'drama'}, sparse_values=None), 'vec1': Vector(id='vec1', values=[1.0, 1.5, 2.0], metadata={'genre': 'drama'}, sparse_values=None), 'vec4': Vector(id='vec4', values=[0.3, 1.7, 1.4], metadata={'genre': 'drama'}, sparse_values=None), 'vec6': Vector(id='vec6', values=[2.2, 0.8, 2.7], metadata={'genre': 'action'}, sparse_values=None), 'vec2': Vector(id='vec2', values=[2.0, 1.5, 0.5], metadata={'genre': 'action'}, sparse_values=None), 'vec5': Vector(id='vec5', values=[1.5, 1.2, 3.4], metadata={'genre': 'action'}, sparse_values=None)}, usage={'read_units': 1})"
      ]
     },
     "execution_count": 53,
     "metadata": {},
     "output_type": "execute_result"
    }
   ],
   "source": [
    "from itertools import chain\n",
    "all_ids = list(chain.from_iterable(index.list(namespace=ns)))\n",
    "resp = index.fetch(ids=all_ids, namespace=ns)\n",
    "resp"
   ]
  },
  {
   "cell_type": "code",
   "execution_count": 54,
   "id": "b4ae3210",
   "metadata": {},
   "outputs": [
    {
     "data": {
      "text/plain": [
       "{'vec3': Vector(id='vec3', values=[0.1, 0.3, 0.5], metadata={'genre': 'drama'}, sparse_values=None),\n",
       " 'vec1': Vector(id='vec1', values=[1.0, 1.5, 2.0], metadata={'genre': 'drama'}, sparse_values=None),\n",
       " 'vec4': Vector(id='vec4', values=[0.3, 1.7, 1.4], metadata={'genre': 'drama'}, sparse_values=None),\n",
       " 'vec6': Vector(id='vec6', values=[2.2, 0.8, 2.7], metadata={'genre': 'action'}, sparse_values=None),\n",
       " 'vec2': Vector(id='vec2', values=[2.0, 1.5, 0.5], metadata={'genre': 'action'}, sparse_values=None),\n",
       " 'vec5': Vector(id='vec5', values=[1.5, 1.2, 3.4], metadata={'genre': 'action'}, sparse_values=None)}"
      ]
     },
     "execution_count": 54,
     "metadata": {},
     "output_type": "execute_result"
    }
   ],
   "source": [
    "resp.vectors"
   ]
  },
  {
   "cell_type": "code",
   "execution_count": 55,
   "id": "e2a34f49",
   "metadata": {},
   "outputs": [
    {
     "name": "stdout",
     "output_type": "stream",
     "text": [
      "vec3 [0.1, 0.3, 0.5]\n",
      "vec1 [1.0, 1.5, 2.0]\n",
      "vec4 [0.3, 1.7, 1.4]\n",
      "vec6 [2.2, 0.8, 2.7]\n",
      "vec2 [2.0, 1.5, 0.5]\n",
      "vec5 [1.5, 1.2, 3.4]\n"
     ]
    }
   ],
   "source": [
    "for vid, v in resp.vectors.items():\n",
    "    print(vid, v.values)"
   ]
  },
  {
   "cell_type": "markdown",
   "id": "39a68ab6",
   "metadata": {},
   "source": [
    "# page"
   ]
  },
  {
   "cell_type": "code",
   "execution_count": 56,
   "id": "7bdc6c50",
   "metadata": {},
   "outputs": [
    {
     "name": "stdout",
     "output_type": "stream",
     "text": [
      "* ['vec1', 'vec2', 'vec3', 'vec4', 'vec5', 'vec6']\n",
      "vec1 [1.0, 1.5, 2.0]\n",
      "vec6 [2.2, 0.8, 2.7]\n",
      "vec2 [2.0, 1.5, 0.5]\n",
      "vec5 [1.5, 1.2, 3.4]\n",
      "vec3 [0.1, 0.3, 0.5]\n",
      "vec4 [0.3, 1.7, 1.4]\n"
     ]
    }
   ],
   "source": [
    "\n",
    "for id_page in index.list(namespace=ns):\n",
    "    print('*', id_page)\n",
    "    resp = index.fetch(ids=id_page, namespace=ns)\n",
    "    for vid, v in resp.vectors.items():\n",
    "        print(vid, v.values)"
   ]
  },
  {
   "cell_type": "markdown",
   "id": "ca1fbb69",
   "metadata": {},
   "source": [
    "# 새로운 쿼리벡터 추가하기"
   ]
  },
  {
   "cell_type": "code",
   "execution_count": 57,
   "id": "33f9c505",
   "metadata": {},
   "outputs": [],
   "source": [
    "ids = list(resp.vectors.keys())\n",
    "values = [ vec.values for vec in resp.vectors.values() ]"
   ]
  },
  {
   "cell_type": "code",
   "execution_count": 58,
   "id": "04379caf",
   "metadata": {},
   "outputs": [],
   "source": [
    "ids.append('qv') # 새로운 qv 벡터 추가\n",
    "values.append([0.1,0.3,0.7]) # dimension 일치"
   ]
  },
  {
   "cell_type": "markdown",
   "id": "1b57d6ff",
   "metadata": {},
   "source": [
    "# 시각화"
   ]
  },
  {
   "cell_type": "code",
   "execution_count": 25,
   "id": "96f77d40",
   "metadata": {},
   "outputs": [
    {
     "name": "stdout",
     "output_type": "stream",
     "text": [
      "Collecting matplotlib\n",
      "  Downloading matplotlib-3.10.6-cp312-cp312-win_amd64.whl.metadata (11 kB)\n",
      "Collecting contourpy>=1.0.1 (from matplotlib)\n",
      "  Downloading contourpy-1.3.3-cp312-cp312-win_amd64.whl.metadata (5.5 kB)\n",
      "Collecting cycler>=0.10 (from matplotlib)\n",
      "  Using cached cycler-0.12.1-py3-none-any.whl.metadata (3.8 kB)\n",
      "Collecting fonttools>=4.22.0 (from matplotlib)\n",
      "  Downloading fonttools-4.59.2-cp312-cp312-win_amd64.whl.metadata (111 kB)\n",
      "Collecting kiwisolver>=1.3.1 (from matplotlib)\n",
      "  Downloading kiwisolver-1.4.9-cp312-cp312-win_amd64.whl.metadata (6.4 kB)\n",
      "Requirement already satisfied: numpy>=1.23 in c:\\users\\admin\\miniconda3\\envs\\prompting_env\\lib\\site-packages (from matplotlib) (2.3.2)\n",
      "Requirement already satisfied: packaging>=20.0 in c:\\users\\admin\\miniconda3\\envs\\prompting_env\\lib\\site-packages (from matplotlib) (24.2)\n",
      "Requirement already satisfied: pillow>=8 in c:\\users\\admin\\miniconda3\\envs\\prompting_env\\lib\\site-packages (from matplotlib) (11.3.0)\n",
      "Collecting pyparsing>=2.3.1 (from matplotlib)\n",
      "  Using cached pyparsing-3.2.3-py3-none-any.whl.metadata (5.0 kB)\n",
      "Requirement already satisfied: python-dateutil>=2.7 in c:\\users\\admin\\miniconda3\\envs\\prompting_env\\lib\\site-packages (from matplotlib) (2.9.0.post0)\n",
      "Requirement already satisfied: six>=1.5 in c:\\users\\admin\\miniconda3\\envs\\prompting_env\\lib\\site-packages (from python-dateutil>=2.7->matplotlib) (1.17.0)\n",
      "Downloading matplotlib-3.10.6-cp312-cp312-win_amd64.whl (8.1 MB)\n",
      "   ---------------------------------------- 0.0/8.1 MB ? eta -:--:--\n",
      "   ------------------------------ --------- 6.3/8.1 MB 35.1 MB/s eta 0:00:01\n",
      "   ---------------------------------------- 8.1/8.1 MB 24.0 MB/s  0:00:00\n",
      "Downloading contourpy-1.3.3-cp312-cp312-win_amd64.whl (226 kB)\n",
      "Using cached cycler-0.12.1-py3-none-any.whl (8.3 kB)\n",
      "Downloading fonttools-4.59.2-cp312-cp312-win_amd64.whl (2.3 MB)\n",
      "   ---------------------------------------- 0.0/2.3 MB ? eta -:--:--\n",
      "   ---------------------------------------- 2.3/2.3 MB 21.4 MB/s  0:00:00\n",
      "Downloading kiwisolver-1.4.9-cp312-cp312-win_amd64.whl (73 kB)\n",
      "Using cached pyparsing-3.2.3-py3-none-any.whl (111 kB)\n",
      "Installing collected packages: pyparsing, kiwisolver, fonttools, cycler, contourpy, matplotlib\n",
      "\n",
      "   ------------- -------------------------- 2/6 [fonttools]\n",
      "   ------------- -------------------------- 2/6 [fonttools]\n",
      "   ------------- -------------------------- 2/6 [fonttools]\n",
      "   ------------- -------------------------- 2/6 [fonttools]\n",
      "   ------------- -------------------------- 2/6 [fonttools]\n",
      "   ------------- -------------------------- 2/6 [fonttools]\n",
      "   ------------- -------------------------- 2/6 [fonttools]\n",
      "   --------------------------------- ------ 5/6 [matplotlib]\n",
      "   --------------------------------- ------ 5/6 [matplotlib]\n",
      "   --------------------------------- ------ 5/6 [matplotlib]\n",
      "   --------------------------------- ------ 5/6 [matplotlib]\n",
      "   --------------------------------- ------ 5/6 [matplotlib]\n",
      "   --------------------------------- ------ 5/6 [matplotlib]\n",
      "   --------------------------------- ------ 5/6 [matplotlib]\n",
      "   --------------------------------- ------ 5/6 [matplotlib]\n",
      "   --------------------------------- ------ 5/6 [matplotlib]\n",
      "   --------------------------------- ------ 5/6 [matplotlib]\n",
      "   ---------------------------------------- 6/6 [matplotlib]\n",
      "\n",
      "Successfully installed contourpy-1.3.3 cycler-0.12.1 fonttools-4.59.2 kiwisolver-1.4.9 matplotlib-3.10.6 pyparsing-3.2.3\n"
     ]
    }
   ],
   "source": [
    "!pip install matplotlib"
   ]
  },
  {
   "cell_type": "code",
   "execution_count": 59,
   "id": "f4018a7c",
   "metadata": {},
   "outputs": [
    {
     "data": {
      "image/png": "[encoded data removed]",
      "text/plain": [
       "<Figure size 640x480 with 1 Axes>"
      ]
     },
     "metadata": {},
     "output_type": "display_data"
    }
   ],
   "source": [
    "import matplotlib.pyplot as plt\n",
    "\n",
    "# 3D 플롯을 생성합니다.\n",
    "fig = plt.figure()\n",
    "ax = fig.add_subplot(111, projection='3d')\n",
    "\n",
    "# 각 벡터의 ID와 값을 사용하여 3D 공간에 점을 그립니다.\n",
    "for i, id in enumerate(ids):\n",
    "    if id == \"qv\":\n",
    "        # 쿼리 벡터는 노란색 사각형으로 표시합니다.\n",
    "        ax.scatter(values[i][0], values[i][1], values[i][2], label=id, color='y', s=50, marker='s')\n",
    "        ax.text(values[i][0] + 0.1, values[i][1] + 0.1, values[i][2] + 0.1, id)\n",
    "    else:\n",
    "        # 나머지 벡터는 기본 색상으로 표시합니다.\n",
    "        ax.scatter(values[i][0], values[i][1], values[i][2], label=id)\n",
    "        ax.text(values[i][0] + 0.1, values[i][1] + 0.1, values[i][2] + 0.1, id)\n",
    "\n",
    "# 축 레이블과 제목을 설정합니다.\n",
    "ax.set_xlabel('X')\n",
    "ax.set_ylabel('Y')\n",
    "ax.set_zlabel('Z')\n",
    "ax.set_title('Embedding Vector Space')\n",
    "\n",
    "# 플롯을 표시합니다.\n",
    "plt.show()"
   ]
  },
  {
   "cell_type": "markdown",
   "id": "63601bba",
   "metadata": {},
   "source": [
    "# 임베딩 미션"
   ]
  },
  {
   "cell_type": "code",
   "execution_count": null,
   "id": "11f505d7",
   "metadata": {},
   "outputs": [],
   "source": [
    "name: \"quickstart\" 서버리스 인덱스 생성\n",
    "dim: 1024"
   ]
  },
  {
   "cell_type": "code",
   "execution_count": 38,
   "id": "8148711f",
   "metadata": {},
   "outputs": [],
   "source": [
    "data = [\n",
    "    {\"id\": \"vec1\", \"text\": \"사과는 달콤하고 아삭한 식감으로 유명한 인기 있는 과일입니다.\"},\n",
    "    {\"id\": \"vec2\", \"text\": \"애플이라는 기술 회사는 아이폰과 같은 혁신적인 제품으로 유명합니다.\"},\n",
    "    {\"id\": \"vec3\", \"text\": \"많은 사람들이 건강한 간식으로 사과를 즐겨 먹습니다.\"},\n",
    "    {\"id\": \"vec4\", \"text\": \"애플 주식회사는 세련된 디자인과 사용자 친화적인 인터페이스로 기술 산업을 혁신했습니다.\"},\n",
    "    {\"id\": \"vec5\", \"text\": \"하루에 사과 하나면 의사를 멀리할 수 있다는 속담이 있습니다.\"},\n",
    "    {\"id\": \"vec6\", \"text\": \"애플 컴퓨터 회사는 1976년 4월 1일 스티브 잡스, 스티브 워즈니악, 로널드 웨인에 의해 파트너십으로 설립되었습니다.\"}\n",
    "]"
   ]
  },
  {
   "cell_type": "code",
   "execution_count": null,
   "id": "e7027852",
   "metadata": {},
   "outputs": [],
   "source": [
    "임베딩 모델\n",
    "multilingual-e5-large\n",
    "upsert()\n",
    "describe_index_stats()\n",
    "query_vector : \"애플이라는 기술 회사에 대해 알려주세요.\"\n",
    "index.query()"
   ]
  },
  {
   "cell_type": "code",
   "execution_count": 72,
   "id": "61a3ca2b",
   "metadata": {},
   "outputs": [],
   "source": [
    "index_name = \"quickstart\"\n",
    "\n",
    "# Pinecone에 있는 모든 인덱스를 순회합니다.\n",
    "for idx in pinecone_client.list_indexes():\n",
    "    # 인덱스 이름이 \"quickstart\"와 일치하는 경우 해당 인덱스를 삭제합니다.\n",
    "    if idx.name == index_name:\n",
    "        pinecone_client.delete_index(idx.name)"
   ]
  },
  {
   "cell_type": "code",
   "execution_count": 73,
   "id": "7da39164",
   "metadata": {},
   "outputs": [],
   "source": [
    "from pinecone import ServerlessSpec\n",
    "# Pinecone 인덱스를 생성합니다.\n",
    "# 인덱스 이름은 \"quickstart\"이고, 차원은 1024, 메트릭은 코사인 유사도를 사용합니다.\n",
    "# 인덱스는 AWS의 us-east-1 리전에서 서버리스 사양으로 생성됩니다.\n",
    "quick_index = pinecone_client.create_index(\n",
    "    name=index_name,\n",
    "    dimension=1024,  # 모델 차원\n",
    "    metric=\"cosine\",  # 모델 메트릭\n",
    "    spec=ServerlessSpec(\n",
    "        cloud=\"aws\",\n",
    "        region=\"us-east-1\"\n",
    "    )\n",
    ")"
   ]
  },
  {
   "cell_type": "code",
   "execution_count": 74,
   "id": "d31241f2",
   "metadata": {},
   "outputs": [],
   "source": [
    "data = [\n",
    "    {\"id\": \"vec1\", \"text\": \"사과는 달콤하고 아삭한 식감으로 유명한 인기 있는 과일입니다.\"},\n",
    "    {\"id\": \"vec2\", \"text\": \"애플이라는 기술 회사는 아이폰과 같은 혁신적인 제품으로 유명합니다.\"},\n",
    "    {\"id\": \"vec3\", \"text\": \"많은 사람들이 건강한 간식으로 사과를 즐겨 먹습니다.\"},\n",
    "    {\"id\": \"vec4\", \"text\": \"애플 주식회사는 세련된 디자인과 사용자 친화적인 인터페이스로 기술 산업을 혁신했습니다.\"},\n",
    "    {\"id\": \"vec5\", \"text\": \"하루에 사과 하나면 의사를 멀리할 수 있다는 속담이 있습니다.\"},\n",
    "    {\"id\": \"vec6\", \"text\": \"애플 컴퓨터 회사는 1976년 4월 1일 스티브 잡스, 스티브 워즈니악, 로널드 웨인에 의해 파트너십으로 설립되었습니다.\"}\n",
    "]"
   ]
  },
  {
   "cell_type": "code",
   "execution_count": 75,
   "id": "3654b7c6",
   "metadata": {},
   "outputs": [
    {
     "data": {
      "text/plain": [
       "{'vector_type': dense, 'values': [0.0301055908203125, -0.0205841064453125, ..., -0.0302276611328125, 0.0241241455078125]}"
      ]
     },
     "execution_count": 75,
     "metadata": {},
     "output_type": "execute_result"
    }
   ],
   "source": [
    "embeddings = pinecone_client.inference.embed (\n",
    "  model='multilingual-e5-large',\n",
    "  inputs = [d['text'] for d in data],\n",
    "  parameters={\"input_type\":\"passage\", \"truncate\":\"END\"}\n",
    ")\n",
    "embeddings[0]"
   ]
  },
  {
   "cell_type": "code",
   "execution_count": 76,
   "id": "00e682fa",
   "metadata": {},
   "outputs": [],
   "source": [
    "#upsert를 위한 벡터 준비\n",
    "vectors = []\n",
    "\n",
    "for d, emb in zip(data, embeddings):\n",
    "  vectors.append(\n",
    "  {\n",
    "    \"id\": d['id'],\n",
    "    \"values\":emb['values'],\n",
    "    \"metadata\":{'text':d['text']}\n",
    "  }\n",
    ")"
   ]
  },
  {
   "cell_type": "code",
   "execution_count": 77,
   "id": "fe9310f5",
   "metadata": {},
   "outputs": [
    {
     "data": {
      "text/plain": [
       "{\n",
       "    \"name\": \"quickstart\",\n",
       "    \"metric\": \"cosine\",\n",
       "    \"host\": \"quickstart-ou15dnm.svc.aped-4627-b74a.pinecone.io\",\n",
       "    \"spec\": {\n",
       "        \"serverless\": {\n",
       "            \"cloud\": \"aws\",\n",
       "            \"region\": \"us-east-1\"\n",
       "        }\n",
       "    },\n",
       "    \"status\": {\n",
       "        \"ready\": true,\n",
       "        \"state\": \"Ready\"\n",
       "    },\n",
       "    \"vector_type\": \"dense\",\n",
       "    \"dimension\": 1024,\n",
       "    \"deletion_protection\": \"disabled\",\n",
       "    \"tags\": null\n",
       "}"
      ]
     },
     "execution_count": 77,
     "metadata": {},
     "output_type": "execute_result"
    }
   ],
   "source": [
    "quick_index"
   ]
  },
  {
   "cell_type": "code",
   "execution_count": 78,
   "id": "34de6619",
   "metadata": {},
   "outputs": [],
   "source": [
    "quick_index = pinecone_client.Index('quickstart')"
   ]
  },
  {
   "cell_type": "code",
   "execution_count": 79,
   "id": "69562f3a",
   "metadata": {},
   "outputs": [
    {
     "data": {
      "text/plain": [
       "{'upserted_count': 6}"
      ]
     },
     "execution_count": 79,
     "metadata": {},
     "output_type": "execute_result"
    }
   ],
   "source": [
    "quick_index.upsert(\n",
    "  vectors=vectors,\n",
    "  namespace='quickstart_ns1'\n",
    ")"
   ]
  },
  {
   "cell_type": "code",
   "execution_count": 81,
   "id": "9d6192a2",
   "metadata": {},
   "outputs": [
    {
     "data": {
      "text/plain": [
       "{'dimension': 1024,\n",
       " 'index_fullness': 0.0,\n",
       " 'metric': 'cosine',\n",
       " 'namespaces': {'quickstart_ns1': {'vector_count': 6}},\n",
       " 'total_vector_count': 6,\n",
       " 'vector_type': 'dense'}"
      ]
     },
     "execution_count": 81,
     "metadata": {},
     "output_type": "execute_result"
    }
   ],
   "source": [
    "quick_index.describe_index_stats()"
   ]
  },
  {
   "cell_type": "code",
   "execution_count": 82,
   "id": "17496ecb",
   "metadata": {},
   "outputs": [
    {
     "name": "stdout",
     "output_type": "stream",
     "text": [
      "{'vector_type': dense, 'values': [0.0113525390625, -0.0175933837890625, ..., -0.02020263671875, -0.00698089599609375]}\n"
     ]
    }
   ],
   "source": [
    "# 쿼리 텍스트를 정의합니다.\n",
    "query = \"애플이라는 기술 회사에 대해 알려주세요.\"\n",
    "\n",
    "# 쿼리 텍스트를 임베딩 벡터로 변환합니다.\n",
    "embedding = pinecone_client.inference.embed(\n",
    "    model=\"multilingual-e5-large\",\n",
    "    inputs=[query],\n",
    "    parameters={\n",
    "        \"input_type\": \"query\"  # 입력 타입을 쿼리로 설정합니다.\n",
    "    }\n",
    ")\n",
    "\n",
    "# 첫 번째 임베딩 벡터를 출력합니다.\n",
    "print(embedding[0])"
   ]
  },
  {
   "cell_type": "code",
   "execution_count": 83,
   "id": "135622fa",
   "metadata": {},
   "outputs": [
    {
     "name": "stdout",
     "output_type": "stream",
     "text": [
      "{'matches': [{'id': 'vec2',\n",
      "              'metadata': {'text': '애플이라는 기술 회사는 아이폰과 같은 혁신적인 제품으로 유명합니다.'},\n",
      "              'score': 0.897184372,\n",
      "              'values': []},\n",
      "             {'id': 'vec4',\n",
      "              'metadata': {'text': '애플 주식회사는 세련된 디자인과 사용자 친화적인 인터페이스로 기술 산업을 '\n",
      "                                   '혁신했습니다.'},\n",
      "              'score': 0.883859813,\n",
      "              'values': []},\n",
      "             {'id': 'vec6',\n",
      "              'metadata': {'text': '애플 컴퓨터 회사는 1976년 4월 1일 스티브 잡스, 스티브 워즈니악, '\n",
      "                                   '로널드 웨인에 의해 파트너십으로 설립되었습니다.'},\n",
      "              'score': 0.867899835,\n",
      "              'values': []}],\n",
      " 'namespace': 'quickstart_ns1',\n",
      " 'usage': {'read_units': 1}}\n"
     ]
    }
   ],
   "source": [
    "results = quick_index.query(\n",
    "    namespace=\"quickstart_ns1\",\n",
    "    vector=embedding[0].values,\n",
    "    top_k=3,\n",
    "    include_values=False,\n",
    "    include_metadata=True\n",
    ")\n",
    "\n",
    "# 검색 결과를 출력합니다.\n",
    "print(results)"
   ]
  },
  {
   "cell_type": "code",
   "execution_count": null,
   "id": "7c27c027",
   "metadata": {},
   "outputs": [],
   "source": []
  }
 ],
 "metadata": {
  "kernelspec": {
   "display_name": "prompting_env",
   "language": "python",
   "name": "python3"
  },
  "language_info": {
   "codemirror_mode": {
    "name": "ipython",
    "version": 3
   },
   "file_extension": ".py",
   "mimetype": "text/x-python",
   "name": "python",
   "nbconvert_exporter": "python",
   "pygments_lexer": "ipython3",
   "version": "3.12.11"
  }
 },
 "nbformat": 4,
 "nbformat_minor": 5
}
