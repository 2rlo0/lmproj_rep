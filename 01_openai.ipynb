{
 "cells": [
  {
   "cell_type": "code",
   "execution_count": 3,
   "id": "5686fde7",
   "metadata": {},
   "outputs": [
    {
     "name": "stdout",
     "output_type": "stream",
     "text": [
      "API Key configured: True\n"
     ]
    }
   ],
   "source": [
    "from dotenv import load_dotenv\n",
    "import os\n",
    "\n",
    "# .env 파일에서 환경 변수를 불러옵니다.\n",
    "load_dotenv()\n",
    "\n",
    "# 환경 변수 읽기\n",
    "openai_api_key = os.getenv(\"OPENAI_API_KEY\")\n",
    "\n",
    "\n",
    "# OpenAI 라이브러리가 환경 변수에서 키를 읽을 수 있도록 설정\n",
    "if openai_api_key:\n",
    "    os.environ[\"OPENAI_API_KEY\"] = openai_api_key\n",
    "\n",
    "print(\"API Key configured:\", \"OPENAI_API_KEY\" in os.environ)"
   ]
  },
  {
   "cell_type": "code",
   "execution_count": 4,
   "id": "f1b7e2b3",
   "metadata": {},
   "outputs": [
    {
     "data": {
      "text/plain": [
       "'1.101.0'"
      ]
     },
     "execution_count": 4,
     "metadata": {},
     "output_type": "execute_result"
    }
   ],
   "source": [
    "import openai\n",
    "openai.__version__"
   ]
  },
  {
   "cell_type": "code",
   "execution_count": 5,
   "id": "fd5e3685",
   "metadata": {},
   "outputs": [],
   "source": [
    "from openai import OpenAI\n",
    "client = OpenAI()\n",
    "\n",
    "response = client.responses.create(\n",
    "  model=\"gpt-4o-mini\",\n",
    "  input=[\n",
    "    {\n",
    "      \"role\": \"system\",\n",
    "      \"content\": [\n",
    "        {\n",
    "          \"type\": \"input_text\",\n",
    "          \"text\": \"답변을 할 때 항상 세부 목록을 만들어서 제공해줘\"\n",
    "        }\n",
    "      ]\n",
    "    },\n",
    "    {\n",
    "      \"role\": \"user\",\n",
    "      \"content\": [\n",
    "        {\n",
    "          \"type\": \"input_text\",\n",
    "          \"text\": \"내일 날씨 알려줘\"\n",
    "        }\n",
    "      ]\n",
    "    },\n",
    "    {\n",
    "      \"id\": \"msg_68a7c612cdb08196936402aedf9b982e0af53e96a36a3c06\",\n",
    "      \"role\": \"assistant\",\n",
    "      \"content\": [\n",
    "        {\n",
    "          \"type\": \"output_text\",\n",
    "          \"text\": \"내일 날씨를 확인하기 위해서는 지역을 알려주셔야 합니다. 특정 지역을 말씀해주시면, 그에 맞춘 날씨 정보를 제공해드리겠습니다. 아래의 정보를 포함해서 알려주세요:\\n\\n1. 지역명\\n2. 예상 날씨 정보 (맑음, 흐림, 비 등)\\n3. 기온 범위 (최고/최저 기온)\"\n",
    "        }\n",
    "      ]\n",
    "    },\n",
    "    {\n",
    "      \"role\": \"user\",\n",
    "      \"content\": [\n",
    "        {\n",
    "          \"type\": \"input_text\",\n",
    "          \"text\": \"남양주시 내일 날씨 알려줘\"\n",
    "        }\n",
    "      ]\n",
    "    },\n",
    "    {\n",
    "      \"id\": \"msg_68a7c61de12481969a440f3093aa69700af53e96a36a3c06\",\n",
    "      \"role\": \"assistant\",\n",
    "      \"content\": [\n",
    "        {\n",
    "          \"type\": \"output_text\",\n",
    "          \"text\": \"남양주시의 내일 날씨는 다음과 같습니다:\\n\\n1. **예상 날씨**: 맑음 또는 흐림\\n2. **최고 기온**: 약 20~22도\\n3. **최저 기온**: 약 10~12도\\n4. **습도**: 상대적으로 낮음\\n5. **바람**: 약간의 바람\\n\\n위의 정보는 기상 청의 예보를 기반으로 하며, 변동이 있을 수 있으니 확인하는 것을 권장합니다!\"\n",
    "        }\n",
    "      ]\n",
    "    }\n",
    "  ],\n",
    "  text={\n",
    "    \"format\": {\n",
    "      \"type\": \"text\"\n",
    "    }\n",
    "  },\n",
    "  reasoning={},\n",
    "  tools=[],\n",
    "  temperature=1,\n",
    "  max_output_tokens=10000,\n",
    "  top_p=1,\n",
    "  store=True\n",
    ")"
   ]
  },
  {
   "cell_type": "code",
   "execution_count": null,
   "id": "0a3c2d57",
   "metadata": {},
   "outputs": [
    {
     "data": {
      "text/plain": [
       "Response(id='resp_68a7c69458a481969f447ddc162c2fb10af53e96a36a3c06', created_at=1755825812.0, error=None, incomplete_details=None, instructions=None, metadata={}, model='gpt-4o-mini-2024-07-18', object='response', output=[ResponseOutputMessage(id='msg_68a7c694e314819696db129984020b370af53e96a36a3c06', content=[ResponseOutputText(annotations=[], text='남양주시의 내일 날씨는 다음과 같습니다:\\n\\n1. **예상 날씨**: 맑음 또는 흐림\\n2. **최고 기온**: 약 20~22도\\n3. **최저 기온**: 약 10~12도\\n4. **습도**: 상대적으로 낮음\\n5. **바람**: 약간의 바람\\n\\n위의 정보는 기상청의 예보를 근거로 하며, 변동이 있을 수 있으니 확인하는 것을 권장합니다!', type='output_text', logprobs=[])], role='assistant', status='completed', type='message')], parallel_tool_calls=True, temperature=1.0, tool_choice='auto', tools=[], top_p=1.0, background=False, conversation=None, max_output_tokens=10000, max_tool_calls=None, previous_response_id=None, prompt=None, prompt_cache_key=None, reasoning=Reasoning(effort=None, generate_summary=None, summary=None), safety_identifier=None, service_tier='default', status='completed', text=ResponseTextConfig(format=ResponseFormatText(type='text'), verbosity='medium'), top_logprobs=0, truncation='disabled', usage=ResponseUsage(input_tokens=252, input_tokens_details=InputTokensDetails(cached_tokens=0), output_tokens=118, output_tokens_details=OutputTokensDetails(reasoning_tokens=0), total_tokens=370), user=None, store=True)"
      ]
     },
     "execution_count": 6,
     "metadata": {},
     "output_type": "execute_result"
    }
   ],
   "source": [
    "response # output에 있는 답변"
   ]
  },
  {
   "cell_type": "code",
   "execution_count": 13,
   "id": "2dc75e74",
   "metadata": {},
   "outputs": [
    {
     "data": {
      "text/plain": [
       "'남양주시의 내일 날씨는 다음과 같습니다:\\n\\n1. **예상 날씨**: 맑음 또는 흐림\\n2. **최고 기온**: 약 20~22도\\n3. **최저 기온**: 약 10~12도\\n4. **습도**: 상대적으로 낮음\\n5. **바람**: 약간의 바람\\n\\n위의 정보는 기상청의 예보를 근거로 하며, 변동이 있을 수 있으니 확인하는 것을 권장합니다!'"
      ]
     },
     "execution_count": 13,
     "metadata": {},
     "output_type": "execute_result"
    }
   ],
   "source": [
    "response.output[0].content[0].text"
   ]
  },
  {
   "cell_type": "code",
   "execution_count": 19,
   "id": "8a6e23a2",
   "metadata": {},
   "outputs": [],
   "source": [
    "from openai import OpenAI\n",
    "client = OpenAI()\n",
    "\n",
    "response = client.responses.create(\n",
    "  model=\"gpt-4o-mini\",\n",
    "  input=[\n",
    "    {\n",
    "      \"role\": \"system\",\n",
    "      \"content\": [\n",
    "        {\n",
    "          \"type\": \"input_text\",\n",
    "          \"text\": \"답변을 할 때 항상 세부 목록을 만들어서 제공해줘\"\n",
    "        }\n",
    "      ]\n",
    "    },\n",
    "    {\n",
    "      \"role\": \"user\",\n",
    "      \"content\": [\n",
    "        {\n",
    "          \"type\": \"input_text\",\n",
    "          \"text\": \"내일 날씨 알려줘\"\n",
    "        }\n",
    "      ]\n",
    "    },\n",
    "    {\n",
    "      \"id\": \"msg_68a7c612cdb08196936402aedf9b982e0af53e96a36a3c06\",\n",
    "      \"role\": \"assistant\",\n",
    "      \"content\": [\n",
    "        {\n",
    "          \"type\": \"output_text\",\n",
    "          \"text\": \"내일 날씨를 확인하기 위해서는 지역을 알려주셔야 합니다. 특정 지역을 말씀해주시면, 그에 맞춘 날씨 정보를 제공해드리겠습니다. 아래의 정보를 포함해서 알려주세요:\\n\\n1. 지역명\\n2. 예상 날씨 정보 (맑음, 흐림, 비 등)\\n3. 기온 범위 (최고/최저 기온)\"\n",
    "        }\n",
    "      ]\n",
    "    },\n",
    "    {\n",
    "      \"role\": \"user\",\n",
    "      \"content\": [\n",
    "        {\n",
    "          \"type\": \"input_text\",\n",
    "          \"text\": \"남양주시 내일 날씨 알려줘\"\n",
    "        }\n",
    "      ]\n",
    "    },\n",
    "    {\n",
    "      \"id\": \"msg_68a7c61de12481969a440f3093aa69700af53e96a36a3c06\",\n",
    "      \"role\": \"assistant\",\n",
    "      \"content\": [\n",
    "        {\n",
    "          \"type\": \"output_text\",\n",
    "          \"text\": \"남양주시의 내일 날씨는 다음과 같습니다:\\n\\n1. **예상 날씨**: 맑음 또는 흐림\\n2. **최고 기온**: 약 20~22도\\n3. **최저 기온**: 약 10~12도\\n4. **습도**: 상대적으로 낮음\\n5. **바람**: 약간의 바람\\n\\n위의 정보는 기상 청의 예보를 기반으로 하며, 변동이 있을 수 있으니 확인하는 것을 권장합니다!\"\n",
    "        }\n",
    "      ]\n",
    "    }\n",
    "  ],\n",
    "  text={\n",
    "    \"format\": {\n",
    "      \"type\": \"text\"\n",
    "    }\n",
    "  },\n",
    "  reasoning={},\n",
    "  tools=[],\n",
    "  temperature=1,\n",
    "  max_output_tokens=10000,\n",
    "  top_p=1,\n",
    "  store=True\n",
    ")"
   ]
  },
  {
   "cell_type": "code",
   "execution_count": 21,
   "id": "39ab06d7",
   "metadata": {},
   "outputs": [],
   "source": [
    "# response.choices[0].message.content"
   ]
  }
 ],
 "metadata": {
  "kernelspec": {
   "display_name": "prompting_env",
   "language": "python",
   "name": "python3"
  },
  "language_info": {
   "codemirror_mode": {
    "name": "ipython",
    "version": 3
   },
   "file_extension": ".py",
   "mimetype": "text/x-python",
   "name": "python",
   "nbconvert_exporter": "python",
   "pygments_lexer": "ipython3",
   "version": "3.12.11"
  }
 },
 "nbformat": 4,
 "nbformat_minor": 5
}
