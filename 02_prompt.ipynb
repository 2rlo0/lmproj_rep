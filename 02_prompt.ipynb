{
 "cells": [
  {
   "cell_type": "code",
   "execution_count": 1,
   "id": "60832656",
   "metadata": {},
   "outputs": [
    {
     "name": "stdout",
     "output_type": "stream",
     "text": [
      "API Key configured: True\n"
     ]
    }
   ],
   "source": [
    "from dotenv import load_dotenv\n",
    "import os\n",
    "load_dotenv()\n",
    "openai_api_key = os.getenv(\"OPENAI_API_KEY\")\n",
    "print(\"API Key configured:\", \"OPENAI_API_KEY\" in os.environ)\n",
    "from openai import OpenAI\n",
    "client = OpenAI()"
   ]
  },
  {
   "cell_type": "code",
   "execution_count": 2,
   "id": "bf5cf4c6",
   "metadata": {},
   "outputs": [],
   "source": [
    "response = client.chat.completions.create(\n",
    "    model='gpt-4o-mini', #omni model\n",
    "    messages=[ # 여러가지 정보가 있어서 list\n",
    "        {'role':'user', 'content':\"파이썬에 대해 알려줘\"}\n",
    "    ]\n",
    ")"
   ]
  },
  {
   "cell_type": "code",
   "execution_count": 3,
   "id": "78487fe2",
   "metadata": {},
   "outputs": [
    {
     "data": {
      "text/plain": [
       "'파이썬(Python)은 고급 프로그래밍 언어로, 1991년 귀도 반 로섬(Guido van Rossum)에 의해 처음 발표되었습니다. 아래는 파이썬의 주요 특징과 장점입니다.\\n\\n### 주요 특징\\n\\n1. **가독성**: 파이썬은 코드의 가독성을 중요시하여, 다른 프로그래밍 언어보다 읽고 쓰기 쉬운 문법을 가지고 있습니다.\\n  \\n2. **다양한 용도**: 웹 개발, 데이터 분석, 인공지능, 머신러닝, 과학 계산, 자동화 스크립트, 게임 개발 등 다양한 분야에서 사용됩니다.\\n\\n3. **대화형 프로그래밍**: 파이썬은 대화형 모드에서 코드를 실행할 수 있어, 프로토타입 개발이나 실험을 쉽게 할 수 있습니다.\\n\\n4. **풍부한 라이브러리**: 표준 라이브러리 외에도 수많은 서드파티 라이브러리(예: NumPy, pandas, TensorFlow 등)를 통해 다양한 기능을 쉽게 활용할 수 있습니다.\\n\\n5. **플랫폼 독립성**: 파이썬은 다양한 운영 체제에서 사용할 수 있어, 윈도우, macOS, 리눅스 등에서 모두 실행 가능합니다.\\n\\n### 장점\\n\\n- **간결한 문법**: 코드의 양이 다른 언어에 비해 상대적으로 적어 유지보수가 쉽습니다.\\n- **커뮤니티와 지원**: 전 세계에 많은 사용자와 개발자가 있어, 커뮤니티 지원과 자료가 풍부합니다.\\n- **학습 용이성**: 초보자부터 전문가까지 모두 쉽게 배울 수 있도록 설계되어 있습니다.\\n\\n### 사용 사례\\n\\n- **웹 개발**: Django, Flask 같은 웹 프레임워크를 사용하여 웹 애플리케이션을 개발할 수 있습니다.\\n- **데이터 분석**: pandas, NumPy와 같은 라이브러리를 사용하여 데이터 처리 및 분석을 쉽게 수행할 수 있습니다.\\n- **인공지능/머신러닝**: TensorFlow, Keras, PyTorch 같은 라이브러리를 이용해 머신러닝 모델을 구축할 수 있습니다.\\n- **자동화**: 스크립트를 작성하여 반복적인 작업을 자동화할 수 있습니다.\\n\\n### 파이썬 기본 예제\\n\\n```python\\n# Hello World 출력\\nprint(\"Hello, World!\")\\n\\n# 리스트를 사용한 간단한 예제\\nnumbers = [1, 2, 3, 4, 5]\\nsquared_numbers = [n ** 2 for n in numbers]\\nprint(squared_numbers)  # [1, 4, 9, 16, 25]\\n```\\n\\n이처럼 파이썬은 쉽고 다양한 분야에서 활용될 수 있는 매우 유용한 프로그래밍 언어입니다. 추가적으로 궁금한 점이 있으면 언제든지 질문해 주세요!'"
      ]
     },
     "execution_count": 3,
     "metadata": {},
     "output_type": "execute_result"
    }
   ],
   "source": [
    "response.choices[0].message.content"
   ]
  },
  {
   "cell_type": "code",
   "execution_count": 4,
   "id": "21c03bd0",
   "metadata": {},
   "outputs": [],
   "source": [
    "response = client.chat.completions.create(\n",
    "    model='gpt-4o-mini', #omni model\n",
    "    messages=[ # 여러가지 정보가 있어서 list\n",
    "        {'role':'user', 'content':\"오늘의 점심메뉴 추천해줘\"}\n",
    "    ]\n",
    ")"
   ]
  },
  {
   "cell_type": "code",
   "execution_count": 5,
   "id": "8a40bf69",
   "metadata": {},
   "outputs": [
    {
     "data": {
      "text/plain": [
       "'오늘의 점심 메뉴로는 비빔밥을 추천합니다! 여러 가지 나물과 고추장, 계란을 함께 비벼 먹으면 맛도 좋고 영양도 균형 잡힌 한 끼가 될 거예요. 혹은 따뜻한 국물 요리를 원하신다면 김치찌개나 된장찌개도 좋은 선택입니다. 어떤 메뉴가 끌리시나요?'"
      ]
     },
     "execution_count": 5,
     "metadata": {},
     "output_type": "execute_result"
    }
   ],
   "source": [
    "response.choices[0].message.content"
   ]
  },
  {
   "cell_type": "markdown",
   "id": "32d4e737",
   "metadata": {},
   "source": [
    "# 출력 형식 지정"
   ]
  },
  {
   "cell_type": "code",
   "execution_count": null,
   "id": "77f9331b",
   "metadata": {},
   "outputs": [
    {
     "name": "stdout",
     "output_type": "stream",
     "text": [
      "ChatGPT 답변: {\n",
      "  \"weather\": \"맑음\",\n",
      "  \"temperature\": \"25도\"\n",
      "} \n",
      "\n",
      "    \n"
     ]
    }
   ],
   "source": [
    "message = {\"role\":\"user\", \"content\":\"오늘 서울 날씨를 json형태로 제공해. 키는 weather, temperature 로 설정해\"}\n",
    "response = client.chat.completions.create(\n",
    "    model='gpt-4o-mini', \n",
    "    messages=[message],\n",
    "    response_format={'type':'json_object'} # 문자열 형식으로 출력되기 때문애 형식으로 정해줘야함.\n",
    ")\n",
    "assitant_reply = response.choices[0].message.content\n",
    "print('ChatGPT 답변:', assitant_reply)"
   ]
  },
  {
   "cell_type": "code",
   "execution_count": 11,
   "id": "8a3948dc",
   "metadata": {},
   "outputs": [
    {
     "data": {
      "text/plain": [
       "dict_keys(['weather', 'temperature'])"
      ]
     },
     "execution_count": 11,
     "metadata": {},
     "output_type": "execute_result"
    }
   ],
   "source": [
    "import json\n",
    "data = json.loads(assitant_reply)\n",
    "data.keys()"
   ]
  },
  {
   "cell_type": "code",
   "execution_count": null,
   "id": "a575f77d",
   "metadata": {},
   "outputs": [],
   "source": [
    "# {도시명}... 날씨는 현재 ..... 이고, 온도는 ....입니다."
   ]
  },
  {
   "cell_type": "code",
   "execution_count": 13,
   "id": "5272d7ce",
   "metadata": {},
   "outputs": [
    {
     "name": "stdout",
     "output_type": "stream",
     "text": [
      "ChatGPT 답변: {\"Seoul\": {\"weather\": \"맑음\", \"temperature\": 20}, \"Busan\": {\"weather\": \"비\", \"temperature\": 18}, \"Daegu\": {\"weather\": \"구름 많음\", \"temperature\": 22}}\n"
     ]
    }
   ],
   "source": [
    "# 서울, 부산, + .... 날씨 정보를 받아서 json으로 추출\n",
    "message = {\"role\":\"user\", \"content\":\"오늘 서울, 부산, 대구 날씨를 json형태로 제공해. 키는 weather, temperature 로 설정해\"}\n",
    "response = client.chat.completions.create(\n",
    "    model='gpt-4o-mini', \n",
    "    messages=[message],\n",
    "    response_format={'type':'json_object'}\n",
    ")\n",
    "assitant_reply = response.choices[0].message.content\n",
    "print('ChatGPT 답변:', assitant_reply)"
   ]
  },
  {
   "cell_type": "code",
   "execution_count": 26,
   "id": "799ec5a8",
   "metadata": {},
   "outputs": [
    {
     "data": {
      "text/plain": [
       "dict_keys(['Seoul', 'Busan', 'Daegu'])"
      ]
     },
     "execution_count": 26,
     "metadata": {},
     "output_type": "execute_result"
    }
   ],
   "source": [
    "data = json.loads(assitant_reply)\n",
    "data.keys()\n",
    "#data.values()"
   ]
  },
  {
   "cell_type": "code",
   "execution_count": 25,
   "id": "01e47b33",
   "metadata": {},
   "outputs": [
    {
     "name": "stdout",
     "output_type": "stream",
     "text": [
      "Seoul 날씨는 현재 맑음 이고, 온도는 20입니다.\n",
      "Busan 날씨는 현재 비 이고, 온도는 18입니다.\n",
      "Daegu 날씨는 현재 구름 많음 이고, 온도는 22입니다.\n"
     ]
    }
   ],
   "source": [
    "for k, v in data.items():\n",
    "    print(f\"{k} 날씨는 현재 {v['weather']} 이고, 온도는 {v['temperature']}입니다.\")"
   ]
  },
  {
   "cell_type": "markdown",
   "id": "d060c920",
   "metadata": {},
   "source": [
    "# CoT 프롬프트"
   ]
  },
  {
   "cell_type": "code",
   "execution_count": null,
   "id": "86cd247f",
   "metadata": {},
   "outputs": [
    {
     "name": "stdout",
     "output_type": "stream",
     "text": [
      "CoT 적용전:  철수가 처음에 가지고 있던 사과는 10개입니다. 그 중 3개를 먹었으므로 남은 사과는 10 - 3 = 7개입니다. 이후 5개를 더 구입했으므로 현재 가지고 있는 사과는 7 + 5 = 12개입니다. \n",
      "\n",
      "따라서 철수가 현재 가지고 있는 사과는 12개입니다.\n"
     ]
    }
   ],
   "source": [
    "question = \"철수는 사과 10개를 가지고 있었는데, 그 중 3개를 먹은 후 5개를 더 구입했습니다. 철수가 현재 가지고 있는 사과는 몇 개일까요?\"\n",
    "response = client.chat.completions.create(\n",
    "    messages=[{\"role\":\"user\", \"content\":question}],\n",
    "    model='gpt-4o-mini',\n",
    "    temperature=0 # 창의성 0: 고지식하게\n",
    ")\n",
    "\n",
    "print(\"CoT 적용전: \", response.choices[0].message.content)"
   ]
  },
  {
   "cell_type": "code",
   "execution_count": 31,
   "id": "da53ed06",
   "metadata": {},
   "outputs": [
    {
     "name": "stdout",
     "output_type": "stream",
     "text": [
      "CoT 적용후:  단계별로 생각해보겠습니다.\n",
      "\n",
      "1. 철수는 처음에 사과 10개를 가지고 있었습니다.\n",
      "2. 그 중 3개를 먹었습니다. \n",
      "   - 10개 - 3개 = 7개\n",
      "3. 이후 5개를 더 구입했습니다.\n",
      "   - 7개 + 5개 = 12개\n",
      "\n",
      "따라서, 철수가 현재 가지고 있는 사과는 12개입니다.\n"
     ]
    }
   ],
   "source": [
    "cot_prompt = '(생각을 단계별로 진행해)\\n' + question\n",
    "response = client.chat.completions.create(\n",
    "    messages=[{\"role\":\"user\", \"content\":cot_prompt}],\n",
    "    model='gpt-4o-mini',\n",
    "    temperature=0\n",
    ")\n",
    "\n",
    "print(\"CoT 적용후: \", response.choices[0].message.content)"
   ]
  },
  {
   "cell_type": "code",
   "execution_count": 35,
   "id": "31ae1efc",
   "metadata": {},
   "outputs": [
    {
     "name": "stdout",
     "output_type": "stream",
     "text": [
      "CoT 적용후:  주어진 문제를 단계별로 풀어보겠습니다.\n",
      "\n",
      "1. **문제 이해하기**: 어떤 수를 \\( x \\)라고 할 때, 이 수를 3배한 결과에 4를 더하면 19가 된다고 합니다. 이를 식으로 표현하면 다음과 같습니다.\n",
      "   \\[\n",
      "   3x + 4 = 19\n",
      "   \\]\n",
      "\n",
      "2. **식 정리하기**: 이제 이 식을 \\( x \\)에 대해 풀어보겠습니다. 먼저, 양쪽에서 4를 빼줍니다.\n",
      "   \\[\n",
      "   3x + 4 - 4 = 19 - 4\n",
      "   \\]\n",
      "   \\[\n",
      "   3x = 15\n",
      "   \\]\n",
      "\n",
      "3. **x 구하기**: 이제 양쪽을 3으로 나누어 \\( x \\)를 구합니다.\n",
      "   \\[\n",
      "   x = \\frac{15}{3}\n",
      "   \\]\n",
      "   \\[\n",
      "   x = 5\n",
      "   \\]\n",
      "\n",
      "4. **결과 확인하기**: 구한 \\( x \\)의 값을 원래 식에 대입하여 확인해보겠습니다.\n",
      "   \\[\n",
      "   3(5) + 4 = 15 + 4 = 19\n",
      "   \\]\n",
      "   결과가 맞으므로, 구한 값이 올바릅니다.\n",
      "\n",
      "따라서, 그 수는 **5**입니다.\n"
     ]
    }
   ],
   "source": [
    "question = \"어떤 수를 3배 한 결과에 4를 더하면 19가 됩니다. 그 수는 무엇일까요? 단계별로 풀어보세요.\"\n",
    "response = client.chat.completions.create(\n",
    "    messages=[{\"role\":\"user\", \"content\":question}],\n",
    "    model='gpt-4o-mini',\n",
    "    temperature=0\n",
    ")\n",
    "\n",
    "print(\"CoT 적용후: \", response.choices[0].message.content)"
   ]
  },
  {
   "cell_type": "code",
   "execution_count": 34,
   "id": "dea91e40",
   "metadata": {},
   "outputs": [
    {
     "name": "stdout",
     "output_type": "stream",
     "text": [
      "정답은:  5입니다.\n"
     ]
    }
   ],
   "source": [
    "question = \"어떤 수를 3배 한 결과에 4를 더하면 19가 됩니다. 그 수는 무엇일까요? 정답만 간결하게 말헤보세요.\"\n",
    "response = client.chat.completions.create(\n",
    "    messages=[{\"role\":\"user\", \"content\":question}],\n",
    "    model='gpt-4o-mini',\n",
    "    temperature=0\n",
    ")\n",
    "\n",
    "print(\"정답은: \", response.choices[0].message.content)"
   ]
  },
  {
   "cell_type": "markdown",
   "id": "003eacbc",
   "metadata": {},
   "source": [
    "# Self consistencty 기법"
   ]
  },
  {
   "cell_type": "code",
   "execution_count": 37,
   "id": "d97a1534",
   "metadata": {},
   "outputs": [
    {
     "name": "stdout",
     "output_type": "stream",
     "text": [
      "응답 1 : 주어진 문제를 단계별로 풀어보겠습니다.\n",
      "\n",
      "1. **문제를 수식으로 표현하기**:\n",
      "    - 어떤 수를 \\( x \\)라고 합시다. 따라서 문제의 조건에 따라 수식을 작성할 수 있습니다.\n",
      "    - \"그 수를 3배 한 결과에 4를 더하면 19\"라는 것은 다음과 같은 수식으로 표현됩니다:\n",
      "      \\[\n",
      "      3x + 4 = 19\n",
      "      \\]\n",
      "\n",
      "2. **수식을 정리하기**:\n",
      "    - 이제 이 수식을 해결하기 위해 \\( x \\)에 대해 정리해보겠습니다.\n",
      "    - 먼저, 양쪽에서 4를 빼줍니다:\n",
      "      \\[\n",
      "      3x + 4 - 4 = 19 - 4\n",
      "      \\]\n",
      "      \\[\n",
      "      3x = 15\n",
      "      \\]\n",
      "\n",
      "3. **\\( x \\)의 값을 구하기**:\n",
      "    - 이제 양쪽을 3으로 나누어 \\( x \\)를 구합니다:\n",
      "      \\[\n",
      "      x = \\frac{15}{3}\n",
      "      \\]\n",
      "      \\[\n",
      "      x = 5\n",
      "      \\]\n",
      "\n",
      "4. **정답 확인하기**:\n",
      "   - 이제 구한 \\( x = 5 \\)가 주어진 조건을 만족하는지 확인해보겠습니다:\n",
      "     - \\( 3 \\times 5 + 4 = 15 + 4 = 19 \\)\n",
      "     - 조건에 맞으므로 올바른 해답입니다.\n",
      "\n",
      "따라서, 그 수는 **5**입니다.\n",
      "응답 2 : 알겠습니다. 주어진 문제를 단계별로 풀어보겠습니다.\n",
      "\n",
      "1. 문제를 수식으로 표현하기:\n",
      "   - 어떤 수를 \\( x \\)라고 합시다.\n",
      "   - 이 수를 3배하고 4를 더했을 때 19가 되는 식을 세웁니다.\n",
      "   - 즉, \\( 3x + 4 = 19 \\)입니다.\n",
      "\n",
      "2. 식을 정리하기:\n",
      "   - 먼저 4를 양 변에서 빼줍니다.\n",
      "   \\[\n",
      "   3x + 4 - 4 = 19 - 4\n",
      "   \\]\n",
      "   \\[\n",
      "   3x = 15\n",
      "   \\]\n",
      "\n",
      "3. \\( x \\)를 구하기 위해 양 변을 3으로 나눕니다.\n",
      "   \\[\n",
      "   x = \\frac{15}{3}\n",
      "   \\]\n",
      "   \\[\n",
      "   x = 5\n",
      "   \\]\n",
      "\n",
      "4. 결과 확인하기:\n",
      "   - \\( x = 5 \\)일 때 3배에 4를 더하면:\n",
      "   \\[\n",
      "   3 \\times 5 + 4 = 15 + 4 = 19\n",
      "   \\]\n",
      "   - 이는 문제의 조건과 일치합니다.\n",
      "\n",
      "따라서, 어떤 수는 \\( 5 \\)입니다.\n",
      "응답 3 : 주어진 문제를 단계별로 풀어보겠습니다.\n",
      "\n",
      "1. **문제를 방정식으로 설정하기**:\n",
      "   어떤 수를 \\( x \\)라고 하면, 문제의 내용을 방정식으로 표현할 수 있습니다.\n",
      "   \\[\n",
      "   3x + 4 = 19\n",
      "   \\]\n",
      "\n",
      "2. **방정식 정리하기**:\n",
      "   이제 방정식을 정리해보겠습니다. 먼저 양변에서 4를 빼겠습니다.\n",
      "   \\[\n",
      "   3x + 4 - 4 = 19 - 4\n",
      "   \\]\n",
      "   이 식을 정리하면:\n",
      "   \\[\n",
      "   3x = 15\n",
      "   \\]\n",
      "\n",
      "3. **\\( x \\)를 구하기**:\n",
      "   이제 양변을 3으로 나누어 \\( x \\)의 값을 구합니다.\n",
      "   \\[\n",
      "   x = \\frac{15}{3}\n",
      "   \\]\n",
      "   계산하면:\n",
      "   \\[\n",
      "   x = 5\n",
      "   \\]\n",
      "\n",
      "4. **정답 확인하기**:\n",
      "   \\( x = 5 \\)가 맞는지 확인해봅시다. 5를 3배 한 후 4를 더해보면:\n",
      "   \\[\n",
      "   3 \\times 5 + 4 = 15 + 4 = 19\n",
      "   \\]\n",
      "   확인 결과, 맞습니다.\n",
      "\n",
      "따라서, 그 수는 **5**입니다.\n",
      "응답 4 : 주어진 문제를 단계별로 해결해 보겠습니다.\n",
      "\n",
      "1. 변수 설정: 어떤 수를 \\( x \\)라고 합시다.\n",
      "\n",
      "2. 문제에서 주어진 상황을 수식으로 표현합니다:\n",
      "   \\[\n",
      "   3x + 4 = 19\n",
      "   \\]\n",
      "\n",
      "3. 이제, 이 수식을 \\( x \\)에 대해 풀어봅시다. 첫 번째 단계는 양쪽에서 4를 뺍니다:\n",
      "   \\[\n",
      "   3x + 4 - 4 = 19 - 4\n",
      "   \\]\n",
      "   이를 정리하면:\n",
      "   \\[\n",
      "   3x = 15\n",
      "   \\]\n",
      "\n",
      "4. 다음으로, 양쪽을 3으로 나누어 \\( x \\)를 구합니다:\n",
      "   \\[\n",
      "   x = \\frac{15}{3}\n",
      "   \\]\n",
      "   계산하면:\n",
      "   \\[\n",
      "   x = 5\n",
      "   \\]\n",
      "\n",
      "5. 따라서, 문제에서 찾고 있는 수는 \\( 5 \\)입니다.\n",
      "\n",
      "이제 답을 확인해 보겠습니다:\n",
      "- \\( 5 \\)를 3배하면 \\( 15 \\)가 되고,\n",
      "- 여기에 \\( 4 \\)를 더하면 \\( 19 \\)가 됩니다.\n",
      "\n",
      "최종적으로, 그 수는 **5**입니다.\n",
      "응답 5 : 이 문제를 단계별로 풀어보겠습니다.\n",
      "\n",
      "1. **문제 이해하기**: 어떤 수를 \\( x \\)라고 하면, 그 수를 3배한 후에 4를 더한 결과가 19가 됩니다.\n",
      "\n",
      "2. **수식 세우기**: 주어진 내용을 수식으로 나타내면 다음과 같습니다.\n",
      "   \\[\n",
      "   3x + 4 = 19\n",
      "   \\]\n",
      "\n",
      "3. **수식 변형하기**: 첫 번째 단계로, 수식에서 4를 빼줍니다.\n",
      "   \\[\n",
      "   3x + 4 - 4 = 19 - 4\n",
      "   \\]\n",
      "   즉,\n",
      "   \\[\n",
      "   3x = 15\n",
      "   \\]\n",
      "\n",
      "4. **x 구하기**: 이제 양 변을 3으로 나눕니다.\n",
      "   \\[\n",
      "   x = \\frac{15}{3}\n",
      "   \\]\n",
      "   그러면,\n",
      "   \\[\n",
      "   x = 5\n",
      "   \\]\n",
      "\n",
      "5. **결과 확인하기**: 마지막으로, x의 값을 원래 수식에 대입하여 확인해봅니다.\n",
      "   \\[\n",
      "   3(5) + 4 = 15 + 4 = 19\n",
      "   \\]\n",
      "   결과가 19가 나왔으므로, 올바른 답입니다.\n",
      "\n",
      "결론적으로, 그 수는 **5**입니다.\n"
     ]
    }
   ],
   "source": [
    "question = \"어떤 수를 3배 한 결과에 4를 더하면 19가 됩니다. 그 수는 무엇일까요? 단계별로 풀어보세요\"\n",
    "message = [{'role':'user', 'content':question}]\n",
    "answers = []\n",
    "\n",
    "for i in range(5):\n",
    "    response = client.chat.completions.create(\n",
    "        messages=message,\n",
    "        model='gpt-4o-mini',\n",
    "        temperature=1.0\n",
    "    )\n",
    "    answer = response.choices[0].message.content.strip()\n",
    "    answers.append(answer)\n",
    "    print(f'응답 {i+1} : {answer}')"
   ]
  },
  {
   "cell_type": "code",
   "execution_count": 42,
   "id": "d864e802",
   "metadata": {},
   "outputs": [
    {
     "name": "stdout",
     "output_type": "stream",
     "text": [
      "최종 답: **5**입니다.\n"
     ]
    }
   ],
   "source": [
    "final_answer = [ans.split()[-1] for ans in answers]\n",
    "import collections\n",
    "counter = collections.Counter(final_answer)\n",
    "final_ans = counter.most_common(1)[0][0]\n",
    "print(f'최종 답: {final_ans}')"
   ]
  },
  {
   "cell_type": "code",
   "execution_count": 54,
   "id": "737c5f8b",
   "metadata": {},
   "outputs": [
    {
     "name": "stdout",
     "output_type": "stream",
     "text": [
      "정답입니다.\n"
     ]
    }
   ],
   "source": [
    "question = '7의 2승에 5를 곱한 값은 무엇인가?'\n",
    "response1 = client.chat.completions.create(\n",
    "    messages = [\n",
    "        {'role':'user','content':question}\n",
    "    ],\n",
    "    model='gpt-3.5-turbo',\n",
    "    temperature = 0\n",
    ")\n",
    "answer = response1.choices[0].message.content.strip() # 모델이 출력한 응답\n",
    "\n",
    "correct_answer = 245# 우리가 주는 피드백\n",
    "if str(correct_answer) in answer: # text\n",
    "    feedback = '정답입니다.'\n",
    "    need_retry = False\n",
    "else:\n",
    "    feedback = '틀렸어요. 힌트는 7의 제곱값을 정확히 구한 다음 곱하세요'\n",
    "    need_retry = True\n",
    "\n",
    "print(feedback)"
   ]
  },
  {
   "cell_type": "markdown",
   "id": "4ac5ae12",
   "metadata": {},
   "source": [
    "# 틀린 답을 출력하는 모델은?"
   ]
  },
  {
   "cell_type": "code",
   "execution_count": null,
   "id": "7ad29cc8",
   "metadata": {},
   "outputs": [],
   "source": [
    "# 2차 답변 생성\n",
    "if need_retry:\n",
    "    retry_prompt = f'이전 답변 : {answer}, 피드백: {feedback} \\n 다시 답을 구하세요'\n",
    "    response2 = client.chat.completions.create(\n",
    "         messages = [\n",
    "            {'role':'user','content':question}\n",
    "        ],\n",
    "        model='gpt-4o-mini',\n",
    "        temperature = 0\n",
    "    )\n",
    "    answer2 = response2.choices[0].message.content.strip() # 모델이 출력한 응답\n",
    "    print(answer2)"
   ]
  },
  {
   "cell_type": "code",
   "execution_count": 60,
   "id": "7f17043e",
   "metadata": {},
   "outputs": [
    {
     "name": "stdout",
     "output_type": "stream",
     "text": [
      "답변 : \n",
      " 기후 변화는 현대 사회가 직면한 가장 심각한 문제 중 하나로, 지구의 기온 상승, 해수면 상승, 극단적인 기상 현상 등을 초래하고 있습니다. 이러한 기후 변화의 주된 원인은 인간 활동에 의해 발생하는 온실가스의 배출입니다. 특히, 화석 연료의 연소, 산업 활동, 농업 및 임업 등에서 발생하는 이산화탄소(CO2), 메탄(CH4), 아산화질소(N2O) 등의 온실가스가 대기 중에 축적되어 지구의 온도를 상승시키고 있습니다.\n",
      "\n",
      "기후 변화의 해결 방안은 여러 가지가 있지만, 가장 효과적인 방법은 온실가스 배출을 줄이는 것입니다. 이를 위해 첫째, 재생 가능 에너지의 사용을 확대해야 합니다. 태양광, 풍력, 수력 등 청정 에너지원으로의 전환은 화석 연료 의존도를 줄이고, 온실가스 배출을 감소시키는 데 기여할 수 있습니다.\n",
      "\n",
      "둘째, 에너지 효율성을 높이는 것이 중요합니다. 건물, 교통수단, 산업 공정에서 에너지를 절약하고 효율적으로 사용하는 기술을 도입함으로써 에너지 소비를 줄일 수 있습니다. 예를 들어, LED 조명, 고효율 가전제품, 전기차 등의 사용은 에너지 절약에 큰 도움이 됩니다.\n",
      "\n",
      "셋째, 지속 가능한 농업과 임업을 실천해야 합니다. 농업에서의 화학 비료와 농약 사용을 줄이고, 유기농법을 도입함으로써 토양의 건강을 유지하고 탄소를 저장할 수 있습니다. 또한, 산림 보호와 재조림을 통해 이산화탄소를 흡수하는 자연적인 방법을 활용해야 합니다.\n",
      "\n",
      "마지막으로, 개인과 사회의 인식 변화가 필요합니다. 기후 변화에 대한 교육과 캠페인을 통해 사람들의 인식을 높이고, 일상생활에서의 작은 실천이 모여 큰 변화를 이끌어낼 수 있음을 강조해야 합니다. 예를 들어, 대중교통 이용, 일회용품 줄이기, 재활용 등의 실천은 개인의 노력으로 시작할 수 있는 부분입니다.\n",
      "\n",
      "결론적으로, 기후 변화는 인류의 지속 가능한 미래를 위협하는 중대한 문제입니다. 이를 해결하기 위해서는 정부, 기업, 개인이 함께 협력하여 온실가스 배출을 줄이고, 지속 가능한 발전을 추구해야 합니다. 기후 변화에 대한 적극적인 대응은 우리 후손에게 건강한 지구를 물려주는 길임을 잊지 말아야 할 것입니다.\n"
     ]
    }
   ],
   "source": [
    "prompt = \"기후 변화의 원인과 해결 방안에 대해 간략한 에세이를 작성하시오.\"\n",
    "response = client.chat.completions.create(\n",
    "    messages=[{\"role\":\"user\", \"content\": prompt}],\n",
    "    model='gpt-4o-mini',\n",
    "    temperature=0\n",
    ")\n",
    "essay = response.choices[0].message.content\n",
    "print(\"답변 : \\n\", essay)"
   ]
  },
  {
   "cell_type": "code",
   "execution_count": 64,
   "id": "0bd9b4b3",
   "metadata": {},
   "outputs": [
    {
     "name": "stdout",
     "output_type": "stream",
     "text": [
      "### 기후 변화의 원인과 해결 방안\n",
      "\n",
      "기후 변화는 현대 사회가 직면한 가장 심각한 환경 문제 중 하나로, 지구의 평균 기온 상승, 해수면 상승, 극단적인 기상 현상 등의 형태로 나타나고 있다. 이러한 기후 변화의 주된 원인은 인간 활동에 의해 발생하는 온실가스의 증가이다. 특히, 화석 연료의 연소, 산업 활동, 농업 및 임업 등에서 발생하는 이산화탄소(CO2), 메탄(CH4), 아산화질소(N2O) 등의 온실가스는 대기 중에 축적되어 지구의 열을 가두는 역할을 한다.\n",
      "\n",
      "기후 변화의 또 다른 원인은 삼림 파괴와 도시화이다. 숲은 이산화탄소를 흡수하는 중요한 역할을 하지만, 개발과 산업화로 인해 많은 숲이 사라지고 있다. 이로 인해 대기 중 이산화탄소 농도가 더욱 증가하게 된다. 또한, 도시화로 인한 열섬 현상은 지역 기온을 상승시키고, 기후 패턴에 변화를 초래한다.\n",
      "\n",
      "이러한 기후 변화에 대응하기 위해서는 여러 가지 해결 방안이 필요하다. 첫째, 재생 가능 에너지의 사용을 확대해야 한다. 태양광, 풍력, 수력 등 청정 에너지원으로의 전환은 온실가스 배출을 줄이는 데 큰 도움이 된다. 둘째, 에너지 효율성을 높이는 기술을 개발하고 보급해야 한다. 건물, 교통수단, 산업 공정에서 에너지를 절약하는 방법을 도입함으로써 에너지 소비를 줄일 수 있다.\n",
      "\n",
      "셋째, 지속 가능한 농업과 임업을 실천해야 한다. 유기농법과 같은 친환경 농업 방식은 토양 건강을 유지하고, 탄소를 저장하는 데 기여할 수 있다. 또한, 재조림과 산림 보호를 통해 이산화탄소를 흡수하는 자연의 기능을 회복할 수 있다.\n",
      "\n",
      "마지막으로, 개인과 사회의 인식 변화가 필요하다. 기후 변화의 심각성을 인식하고, 일상생활에서 에너지를 절약하고, 친환경 제품을 선택하는 등의 작은 실천이 모여 큰 변화를 이끌어낼 수 있다. 정부와 기업도 기후 변화 대응을 위한 정책과 프로그램을 적극적으로 추진해야 한다.\n",
      "\n",
      "결론적으로, 기후 변화는 인류의 생존과 미래에 중대한 영향을 미치는 문제이다. 이를 해결하기 위해서는 개인, 사회, 정부가 함께 노력해야 하며, 지속 가능한 발전을 위한 실천이 필요하다. 기후 변화에 대한 우리의 대응이 미래 세대에게 더 나은 지구를 물려주는 길임을 잊지 말아야 한다.\n"
     ]
    }
   ],
   "source": [
    "feedback = ('피드백: \\n'\n",
    "            '관련된 통계자료를 기반으로 작성해줘'\n",
    "            '문제점을  5가지 이상 목록 형식으로 알려줘'\n",
    ")\n",
    "retry_prompt = f'이전 답변 : {essay}, 피드백: {feedback} \\n 다시 답을 구하세요'\n",
    "response2 = client.chat.completions.create(\n",
    "    messages = [\n",
    "        {'role':'user','content':prompt}\n",
    "    ],\n",
    "    model='gpt-4o-mini',\n",
    "    temperature = 0\n",
    ")\n",
    "essay2 = response2.choices[0].message.content.strip() # 모델이 출력한 응답\n",
    "print(essay2)"
   ]
  },
  {
   "cell_type": "code",
   "execution_count": null,
   "id": "45d3739a",
   "metadata": {},
   "outputs": [],
   "source": []
  }
 ],
 "metadata": {
  "kernelspec": {
   "display_name": "prompting_env",
   "language": "python",
   "name": "python3"
  },
  "language_info": {
   "codemirror_mode": {
    "name": "ipython",
    "version": 3
   },
   "file_extension": ".py",
   "mimetype": "text/x-python",
   "name": "python",
   "nbconvert_exporter": "python",
   "pygments_lexer": "ipython3",
   "version": "3.12.11"
  }
 },
 "nbformat": 4,
 "nbformat_minor": 5
}
