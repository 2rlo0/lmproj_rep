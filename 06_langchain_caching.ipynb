{
 "cells": [
  {
   "cell_type": "code",
   "execution_count": 2,
   "id": "0070222d",
   "metadata": {},
   "outputs": [
    {
     "data": {
      "text/plain": [
       "'0.3.27'"
      ]
     },
     "execution_count": 2,
     "metadata": {},
     "output_type": "execute_result"
    }
   ],
   "source": [
    "import langchain\n",
    "langchain.__version__"
   ]
  },
  {
   "cell_type": "code",
   "execution_count": 3,
   "id": "33cc3106",
   "metadata": {},
   "outputs": [
    {
     "data": {
      "text/plain": [
       "ChatOpenAI(client=<openai.resources.chat.completions.completions.Completions object at 0x000002A56678C110>, async_client=<openai.resources.chat.completions.completions.AsyncCompletions object at 0x000002A566BC8D10>, root_client=<openai.OpenAI object at 0x000002A563CEB680>, root_async_client=<openai.AsyncOpenAI object at 0x000002A5669BC650>, model_name='gpt-4o-mini', model_kwargs={}, openai_api_key=SecretStr('**********'))"
      ]
     },
     "execution_count": 3,
     "metadata": {},
     "output_type": "execute_result"
    }
   ],
   "source": [
    "from langchain_openai import ChatOpenAI\n",
    "llm = ChatOpenAI(model='gpt-4o-mini')\n",
    "llm"
   ]
  },
  {
   "cell_type": "code",
   "execution_count": 6,
   "id": "287cd106",
   "metadata": {},
   "outputs": [
    {
     "data": {
      "text/plain": [
       "AIMessage(content='서울에서 대표적인 음식을 맛볼 수 있는 레스토랑을 몇 군데 추천해 드릴게요.\\n\\n1. **추억의 돌솥밥**: 이곳은 전통 한식을 현대적으로 재해석한 메뉴를 제공합니다. 특히 돌솥비빔밥이 유명하며, 신선한 재료로 만든 다양한 반찬과 함께 제공됩니다. 분위기 또한 아늑하고 한국 전통의 멋을 느낄 수 있는 곳입니다.\\n\\n2. **부암동 송추가마골**: 이곳은 감자탕과 갈비탕 등 다양한 한국 전통 국물 요리를 전문으로 합니다. 특히 진한 국물 맛과 신선한 재료가 특징이며, 넓은 실내와 아름다운 정원을 갖추고 있어 식사하는 동안 편안한 분위기를 제공합니다.\\n\\n3. **광장시장**: 비록 레스토랑은 아니지만, 서울의 대표적인 먹거리를 경험할 수 있는 장소입니다. 김밥, 떡볶이, 순대, 빈대떡 등 다양한 한국 전통 음식을 저렴한 가격에 즐길 수 있으며, 활기찬 시장의 분위기를 느낄 수 있습니다.\\n\\n이 외에도 서울에는 수많은 맛집이 있으니 방문해 보시면 좋을 것 같습니다!', additional_kwargs={'refusal': None}, response_metadata={'token_usage': {'completion_tokens': 281, 'prompt_tokens': 28, 'total_tokens': 309, 'completion_tokens_details': {'accepted_prediction_tokens': 0, 'audio_tokens': 0, 'reasoning_tokens': 0, 'rejected_prediction_tokens': 0}, 'prompt_tokens_details': {'audio_tokens': 0, 'cached_tokens': 0}}, 'model_name': 'gpt-4o-mini-2024-07-18', 'system_fingerprint': 'fp_8bda4d3a2c', 'id': 'chatcmpl-CDL5ZJBisMfrfUKpjDJGHKSPScp5c', 'service_tier': 'default', 'finish_reason': 'stop', 'logprobs': None}, id='run--5da056d6-df16-4230-a55e-ff10101bacd8-0', usage_metadata={'input_tokens': 28, 'output_tokens': 281, 'total_tokens': 309, 'input_token_details': {'audio': 0, 'cache_read': 0}, 'output_token_details': {'audio': 0, 'reasoning': 0}})"
      ]
     },
     "execution_count": 6,
     "metadata": {},
     "output_type": "execute_result"
    }
   ],
   "source": [
    "from langchain_core.messages import HumanMessage\n",
    "message = [\n",
    "    HumanMessage(content=\"서울을 대표하는 음식을 맛볼 수 있는 레스토랑 3개를 추천해 주세요.\")\n",
    "]\n",
    "response = llm.invoke(message)\n",
    "response"
   ]
  },
  {
   "cell_type": "markdown",
   "id": "3eee247b",
   "metadata": {},
   "source": [
    "# caching\n",
    "\n",
    "1. inmemorycache\n",
    "2. cache db"
   ]
  },
  {
   "cell_type": "code",
   "execution_count": 7,
   "id": "1c33502b",
   "metadata": {},
   "outputs": [],
   "source": [
    "from langchain_core.globals import set_llm_cache\n",
    "from langchain_core.caches import InMemoryCache\n",
    "\n",
    "set_llm_cache( InMemoryCache() )"
   ]
  },
  {
   "cell_type": "code",
   "execution_count": null,
   "id": "70f327bb",
   "metadata": {},
   "outputs": [
    {
     "data": {
      "text/plain": [
       "AIMessage(content='서울에서 대표적인 음식을 맛볼 수 있는 레스토랑 세 곳을 추천드립니다.\\n\\n1. **진미식당 (Jinmi Sikdang)**\\n   - **추천 음식**: 갈비탕\\n   - **소개**: 진미식당은 전통적인 갈비탕으로 유명한 곳으로, 깊고 진한 육수와 부드러운 갈비가 조화를 이루는 맛이 일품입니다. 서울에서 갈비탕을 제대로 맛보고 싶다면 이곳을 방문해 보세요.\\n\\n2. **광화문 미진 (Gwanghwamun Mijin)**\\n   - **추천 음식**: 비빔밥\\n   - **소개**: 광화문 미진은 비빔밥을 전문으로 하는 레스토랑으로, 신선한 재료와 특제 고추장 소스를 사용하여 고유의 맛을 살립니다. 다양한 나물과 고기를 한 그릇에 비벼먹는 즐거움을 경험할 수 있습니다.\\n\\n3. **마포갈매기 (Mapo Galmaegi)**\\n   - **추천 음식**: 대패삼겹살\\n   - **소개**: 마포갈매기는 맛있는 삼겹살을 제공하는 유명한 고깃집입니다. 대패로 얇게 썬 삼겹살을 직화 grill에서 구워내는 방식으로, 고기의 풍미를 극대화하며, 다양한 소스와 함께 즐길 수 있습니다.\\n\\n이 세 곳은 서울의 전통적인 맛을 간직하고 있으며, 여행 중에 꼭 방문해 볼 만한 추천 레스토랑입니다!', additional_kwargs={'refusal': None}, response_metadata={'token_usage': {'completion_tokens': 347, 'prompt_tokens': 28, 'total_tokens': 375, 'completion_tokens_details': {'accepted_prediction_tokens': 0, 'audio_tokens': 0, 'reasoning_tokens': 0, 'rejected_prediction_tokens': 0}, 'prompt_tokens_details': {'audio_tokens': 0, 'cached_tokens': 0}}, 'model_name': 'gpt-4o-mini-2024-07-18', 'system_fingerprint': 'fp_8bda4d3a2c', 'id': 'chatcmpl-CDL8quBlJrLNODYqezDaavjjMn3hn', 'service_tier': 'default', 'finish_reason': 'stop', 'logprobs': None}, id='run--e22f02fb-3a7b-454b-941c-07e87d293998-0', usage_metadata={'input_tokens': 28, 'output_tokens': 347, 'total_tokens': 375, 'input_token_details': {'audio': 0, 'cache_read': 0}, 'output_token_details': {'audio': 0, 'reasoning': 0}, 'total_cost': 0})"
      ]
     },
     "execution_count": 9,
     "metadata": {},
     "output_type": "execute_result"
    }
   ],
   "source": [
    "response = llm.invoke(message) # 5.1s\n",
    "response \n",
    "# 메세지와 응답을 저장. 메시지가 같은 경우 -> 메시지를 만들어 줌.\n",
    "# 세션이 리셋되면 사라지는 치명적인 단점 -> 캐시 db 사용"
   ]
  },
  {
   "cell_type": "code",
   "execution_count": null,
   "id": "93c125e8",
   "metadata": {},
   "outputs": [],
   "source": [
    "llm1 = ChatOpenAI(model='gpt-4o-mini', cache=False) #  캐시 끄도록 설정. 캐싱이 필요한지 아닌지 확인.\n",
    "llm1"
   ]
  },
  {
   "cell_type": "markdown",
   "id": "3a4225fa",
   "metadata": {},
   "source": [
    "# message가 동일해야 한다. 처음 실행시 캐싱한다."
   ]
  },
  {
   "cell_type": "code",
   "execution_count": 10,
   "id": "558fc8b8",
   "metadata": {},
   "outputs": [
    {
     "name": "stdout",
     "output_type": "stream",
     "text": [
      "Collecting redis\n",
      "  Downloading redis-6.4.0-py3-none-any.whl.metadata (10 kB)\n",
      "Downloading redis-6.4.0-py3-none-any.whl (279 kB)\n",
      "Installing collected packages: redis\n",
      "Successfully installed redis-6.4.0\n"
     ]
    }
   ],
   "source": [
    "!pip install redis"
   ]
  },
  {
   "cell_type": "code",
   "execution_count": null,
   "id": "c2a7fbc1",
   "metadata": {},
   "outputs": [],
   "source": [
    "response = llm.invoke(message)"
   ]
  },
  {
   "cell_type": "markdown",
   "id": "189ff239",
   "metadata": {},
   "source": [
    "# redis client test"
   ]
  },
  {
   "cell_type": "code",
   "execution_count": null,
   "id": "4ddd8fa3",
   "metadata": {},
   "outputs": [],
   "source": [
    "\"\"\"Basic connection example.\n",
    "\"\"\"\n",
    "\n",
    "import redis\n",
    "\n",
    "r = redis.Redis(\n",
    "    host='redis-11414.c340.ap-northeast-2-1.ec2.redns.redis-cloud.com',\n",
    "    port=11414,\n",
    "    decode_responses=True,\n",
    "    username=\"default\",\n",
    "    password=\"\",\n",
    ") # client\n",
    "\n",
    "success = r.set('foo', 'bar')\n",
    "# True\n"
   ]
  },
  {
   "cell_type": "code",
   "execution_count": 24,
   "id": "893a50b8",
   "metadata": {},
   "outputs": [
    {
     "name": "stdout",
     "output_type": "stream",
     "text": [
      "bar\n"
     ]
    }
   ],
   "source": [
    "result = r.get('foo')\n",
    "print(result)\n",
    "# >>> bar\n"
   ]
  },
  {
   "cell_type": "code",
   "execution_count": 16,
   "id": "37abc034",
   "metadata": {},
   "outputs": [
    {
     "name": "stdout",
     "output_type": "stream",
     "text": [
      "Collecting langchain_community\n",
      "  Downloading langchain_community-0.3.29-py3-none-any.whl.metadata (2.9 kB)\n",
      "Collecting langchain-core<2.0.0,>=0.3.75 (from langchain_community)\n",
      "  Downloading langchain_core-0.3.75-py3-none-any.whl.metadata (5.7 kB)\n",
      "Requirement already satisfied: langchain<2.0.0,>=0.3.27 in c:\\users\\admin\\miniconda3\\envs\\prompting_env\\lib\\site-packages (from langchain_community) (0.3.27)\n",
      "Requirement already satisfied: SQLAlchemy<3,>=1.4 in c:\\users\\admin\\miniconda3\\envs\\prompting_env\\lib\\site-packages (from langchain_community) (2.0.43)\n",
      "Requirement already satisfied: requests<3,>=2.32.5 in c:\\users\\admin\\miniconda3\\envs\\prompting_env\\lib\\site-packages (from langchain_community) (2.32.5)\n",
      "Requirement already satisfied: PyYAML>=5.3 in c:\\users\\admin\\miniconda3\\envs\\prompting_env\\lib\\site-packages (from langchain_community) (6.0.2)\n",
      "Requirement already satisfied: aiohttp<4.0.0,>=3.8.3 in c:\\users\\admin\\miniconda3\\envs\\prompting_env\\lib\\site-packages (from langchain_community) (3.12.15)\n",
      "Requirement already satisfied: tenacity!=8.4.0,<10,>=8.1.0 in c:\\users\\admin\\miniconda3\\envs\\prompting_env\\lib\\site-packages (from langchain_community) (9.1.2)\n",
      "Requirement already satisfied: dataclasses-json<0.7,>=0.6.7 in c:\\users\\admin\\miniconda3\\envs\\prompting_env\\lib\\site-packages (from langchain_community) (0.6.7)\n",
      "Collecting pydantic-settings<3.0.0,>=2.10.1 (from langchain_community)\n",
      "  Downloading pydantic_settings-2.10.1-py3-none-any.whl.metadata (3.4 kB)\n",
      "Requirement already satisfied: langsmith>=0.1.125 in c:\\users\\admin\\miniconda3\\envs\\prompting_env\\lib\\site-packages (from langchain_community) (0.4.15)\n",
      "Collecting httpx-sse<1.0.0,>=0.4.0 (from langchain_community)\n",
      "  Downloading httpx_sse-0.4.1-py3-none-any.whl.metadata (9.4 kB)\n",
      "Requirement already satisfied: numpy>=1.26.2 in c:\\users\\admin\\miniconda3\\envs\\prompting_env\\lib\\site-packages (from langchain_community) (2.3.2)\n",
      "Requirement already satisfied: aiohappyeyeballs>=2.5.0 in c:\\users\\admin\\miniconda3\\envs\\prompting_env\\lib\\site-packages (from aiohttp<4.0.0,>=3.8.3->langchain_community) (2.6.1)\n",
      "Requirement already satisfied: aiosignal>=1.4.0 in c:\\users\\admin\\miniconda3\\envs\\prompting_env\\lib\\site-packages (from aiohttp<4.0.0,>=3.8.3->langchain_community) (1.4.0)\n",
      "Requirement already satisfied: attrs>=17.3.0 in c:\\users\\admin\\miniconda3\\envs\\prompting_env\\lib\\site-packages (from aiohttp<4.0.0,>=3.8.3->langchain_community) (25.3.0)\n",
      "Requirement already satisfied: frozenlist>=1.1.1 in c:\\users\\admin\\miniconda3\\envs\\prompting_env\\lib\\site-packages (from aiohttp<4.0.0,>=3.8.3->langchain_community) (1.7.0)\n",
      "Requirement already satisfied: multidict<7.0,>=4.5 in c:\\users\\admin\\miniconda3\\envs\\prompting_env\\lib\\site-packages (from aiohttp<4.0.0,>=3.8.3->langchain_community) (6.6.4)\n",
      "Requirement already satisfied: propcache>=0.2.0 in c:\\users\\admin\\miniconda3\\envs\\prompting_env\\lib\\site-packages (from aiohttp<4.0.0,>=3.8.3->langchain_community) (0.3.2)\n",
      "Requirement already satisfied: yarl<2.0,>=1.17.0 in c:\\users\\admin\\miniconda3\\envs\\prompting_env\\lib\\site-packages (from aiohttp<4.0.0,>=3.8.3->langchain_community) (1.20.1)\n",
      "Requirement already satisfied: marshmallow<4.0.0,>=3.18.0 in c:\\users\\admin\\miniconda3\\envs\\prompting_env\\lib\\site-packages (from dataclasses-json<0.7,>=0.6.7->langchain_community) (3.26.1)\n",
      "Requirement already satisfied: typing-inspect<1,>=0.4.0 in c:\\users\\admin\\miniconda3\\envs\\prompting_env\\lib\\site-packages (from dataclasses-json<0.7,>=0.6.7->langchain_community) (0.9.0)\n",
      "Requirement already satisfied: langchain-text-splitters<1.0.0,>=0.3.9 in c:\\users\\admin\\miniconda3\\envs\\prompting_env\\lib\\site-packages (from langchain<2.0.0,>=0.3.27->langchain_community) (0.3.9)\n",
      "Requirement already satisfied: pydantic<3.0.0,>=2.7.4 in c:\\users\\admin\\miniconda3\\envs\\prompting_env\\lib\\site-packages (from langchain<2.0.0,>=0.3.27->langchain_community) (2.11.7)\n",
      "Requirement already satisfied: jsonpatch<2.0,>=1.33 in c:\\users\\admin\\miniconda3\\envs\\prompting_env\\lib\\site-packages (from langchain-core<2.0.0,>=0.3.75->langchain_community) (1.33)\n",
      "Requirement already satisfied: typing-extensions>=4.7 in c:\\users\\admin\\miniconda3\\envs\\prompting_env\\lib\\site-packages (from langchain-core<2.0.0,>=0.3.75->langchain_community) (4.14.1)\n",
      "Requirement already satisfied: packaging>=23.2 in c:\\users\\admin\\miniconda3\\envs\\prompting_env\\lib\\site-packages (from langchain-core<2.0.0,>=0.3.75->langchain_community) (25.0)\n",
      "Requirement already satisfied: jsonpointer>=1.9 in c:\\users\\admin\\miniconda3\\envs\\prompting_env\\lib\\site-packages (from jsonpatch<2.0,>=1.33->langchain-core<2.0.0,>=0.3.75->langchain_community) (3.0.0)\n",
      "Requirement already satisfied: annotated-types>=0.6.0 in c:\\users\\admin\\miniconda3\\envs\\prompting_env\\lib\\site-packages (from pydantic<3.0.0,>=2.7.4->langchain<2.0.0,>=0.3.27->langchain_community) (0.7.0)\n",
      "Requirement already satisfied: pydantic-core==2.33.2 in c:\\users\\admin\\miniconda3\\envs\\prompting_env\\lib\\site-packages (from pydantic<3.0.0,>=2.7.4->langchain<2.0.0,>=0.3.27->langchain_community) (2.33.2)\n",
      "Requirement already satisfied: typing-inspection>=0.4.0 in c:\\users\\admin\\miniconda3\\envs\\prompting_env\\lib\\site-packages (from pydantic<3.0.0,>=2.7.4->langchain<2.0.0,>=0.3.27->langchain_community) (0.4.1)\n",
      "Requirement already satisfied: python-dotenv>=0.21.0 in c:\\users\\admin\\miniconda3\\envs\\prompting_env\\lib\\site-packages (from pydantic-settings<3.0.0,>=2.10.1->langchain_community) (1.1.1)\n",
      "Requirement already satisfied: charset_normalizer<4,>=2 in c:\\users\\admin\\miniconda3\\envs\\prompting_env\\lib\\site-packages (from requests<3,>=2.32.5->langchain_community) (3.4.3)\n",
      "Requirement already satisfied: idna<4,>=2.5 in c:\\users\\admin\\miniconda3\\envs\\prompting_env\\lib\\site-packages (from requests<3,>=2.32.5->langchain_community) (3.10)\n",
      "Requirement already satisfied: urllib3<3,>=1.21.1 in c:\\users\\admin\\miniconda3\\envs\\prompting_env\\lib\\site-packages (from requests<3,>=2.32.5->langchain_community) (2.5.0)\n",
      "Requirement already satisfied: certifi>=2017.4.17 in c:\\users\\admin\\miniconda3\\envs\\prompting_env\\lib\\site-packages (from requests<3,>=2.32.5->langchain_community) (2025.8.3)\n",
      "Requirement already satisfied: greenlet>=1 in c:\\users\\admin\\miniconda3\\envs\\prompting_env\\lib\\site-packages (from SQLAlchemy<3,>=1.4->langchain_community) (3.2.4)\n",
      "Requirement already satisfied: mypy-extensions>=0.3.0 in c:\\users\\admin\\miniconda3\\envs\\prompting_env\\lib\\site-packages (from typing-inspect<1,>=0.4.0->dataclasses-json<0.7,>=0.6.7->langchain_community) (1.1.0)\n",
      "Requirement already satisfied: httpx<1,>=0.23.0 in c:\\users\\admin\\miniconda3\\envs\\prompting_env\\lib\\site-packages (from langsmith>=0.1.125->langchain_community) (0.28.1)\n",
      "Requirement already satisfied: orjson>=3.9.14 in c:\\users\\admin\\miniconda3\\envs\\prompting_env\\lib\\site-packages (from langsmith>=0.1.125->langchain_community) (3.11.2)\n",
      "Requirement already satisfied: requests-toolbelt>=1.0.0 in c:\\users\\admin\\miniconda3\\envs\\prompting_env\\lib\\site-packages (from langsmith>=0.1.125->langchain_community) (1.0.0)\n",
      "Requirement already satisfied: zstandard>=0.23.0 in c:\\users\\admin\\miniconda3\\envs\\prompting_env\\lib\\site-packages (from langsmith>=0.1.125->langchain_community) (0.24.0)\n",
      "Requirement already satisfied: anyio in c:\\users\\admin\\miniconda3\\envs\\prompting_env\\lib\\site-packages (from httpx<1,>=0.23.0->langsmith>=0.1.125->langchain_community) (4.10.0)\n",
      "Requirement already satisfied: httpcore==1.* in c:\\users\\admin\\miniconda3\\envs\\prompting_env\\lib\\site-packages (from httpx<1,>=0.23.0->langsmith>=0.1.125->langchain_community) (1.0.9)\n",
      "Requirement already satisfied: h11>=0.16 in c:\\users\\admin\\miniconda3\\envs\\prompting_env\\lib\\site-packages (from httpcore==1.*->httpx<1,>=0.23.0->langsmith>=0.1.125->langchain_community) (0.16.0)\n",
      "Requirement already satisfied: sniffio>=1.1 in c:\\users\\admin\\miniconda3\\envs\\prompting_env\\lib\\site-packages (from anyio->httpx<1,>=0.23.0->langsmith>=0.1.125->langchain_community) (1.3.1)\n",
      "Downloading langchain_community-0.3.29-py3-none-any.whl (2.5 MB)\n",
      "   ---------------------------------------- 0.0/2.5 MB ? eta -:--:--\n",
      "   ---------------------------------------- 2.5/2.5 MB 18.1 MB/s  0:00:00\n",
      "Downloading httpx_sse-0.4.1-py3-none-any.whl (8.1 kB)\n",
      "Downloading langchain_core-0.3.75-py3-none-any.whl (443 kB)\n",
      "Downloading pydantic_settings-2.10.1-py3-none-any.whl (45 kB)\n",
      "Installing collected packages: httpx-sse, pydantic-settings, langchain-core, langchain_community\n",
      "\n",
      "  Attempting uninstall: langchain-core\n",
      "\n",
      "    Found existing installation: langchain-core 0.3.74\n",
      "\n",
      "    Uninstalling langchain-core-0.3.74:\n",
      "\n",
      "      Successfully uninstalled langchain-core-0.3.74\n",
      "\n",
      "   -------------------- ------------------- 2/4 [langchain-core]\n",
      "   -------------------- ------------------- 2/4 [langchain-core]\n",
      "   -------------------- ------------------- 2/4 [langchain-core]\n",
      "   ------------------------------ --------- 3/4 [langchain_community]\n",
      "   ------------------------------ --------- 3/4 [langchain_community]\n",
      "   ------------------------------ --------- 3/4 [langchain_community]\n",
      "   ------------------------------ --------- 3/4 [langchain_community]\n",
      "   ------------------------------ --------- 3/4 [langchain_community]\n",
      "   ------------------------------ --------- 3/4 [langchain_community]\n",
      "   ------------------------------ --------- 3/4 [langchain_community]\n",
      "   ------------------------------ --------- 3/4 [langchain_community]\n",
      "   ------------------------------ --------- 3/4 [langchain_community]\n",
      "   ------------------------------ --------- 3/4 [langchain_community]\n",
      "   ------------------------------ --------- 3/4 [langchain_community]\n",
      "   ------------------------------ --------- 3/4 [langchain_community]\n",
      "   ------------------------------ --------- 3/4 [langchain_community]\n",
      "   ------------------------------ --------- 3/4 [langchain_community]\n",
      "   ------------------------------ --------- 3/4 [langchain_community]\n",
      "   ------------------------------ --------- 3/4 [langchain_community]\n",
      "   ------------------------------ --------- 3/4 [langchain_community]\n",
      "   ---------------------------------------- 4/4 [langchain_community]\n",
      "\n",
      "Successfully installed httpx-sse-0.4.1 langchain-core-0.3.75 langchain_community-0.3.29 pydantic-settings-2.10.1\n"
     ]
    }
   ],
   "source": [
    "!pip install langchain_community"
   ]
  },
  {
   "cell_type": "markdown",
   "id": "32d4a90a",
   "metadata": {},
   "source": [
    "# redis cache 설정"
   ]
  },
  {
   "cell_type": "code",
   "execution_count": null,
   "id": "e6b6a9a6",
   "metadata": {},
   "outputs": [],
   "source": [
    "from langchain_community.cache import RedisCache\n",
    "from redis import Redis\n",
    "\n",
    "set_llm_cache(RedisCache(\n",
    "    redis_=Redis(\n",
    "        host='redis-11414.c340.ap-northeast-2-1.ec2.redns.redis-cloud.com',\n",
    "        port=11414,\n",
    "        password=''\n",
    "    )\n",
    "))"
   ]
  },
  {
   "cell_type": "code",
   "execution_count": 28,
   "id": "a676cbf2",
   "metadata": {},
   "outputs": [],
   "source": [
    "response = llm.invoke(message)"
   ]
  },
  {
   "cell_type": "code",
   "execution_count": 29,
   "id": "1e3404dc",
   "metadata": {},
   "outputs": [
    {
     "data": {
      "text/plain": [
       "AIMessage(content='서울에서 대표적인 음식을 맛볼 수 있는 레스토랑을 세 곳 추천해 드립니다.\\n\\n1. **광장시장의 마약김밥**  \\n   광장시장은 서울의 대표적인 전통 시장으로, 이곳의 마약김밥은 특히 유명합니다. 김밥이 작고 간편하게 먹을 수 있어 많은 사람들에게 사랑받고 있으며, 다양한 재료로 속을 채운 김밥을 즐길 수 있습니다.\\n\\n2. **부엉이돈까스**  \\n   이곳은 서울에서 유명한 돈까스 전문점으로, 바삭하고 풍부한 맛의 돈까스를 제공합니다. 특히 소스와 함께 나오는 돈까스는 많은 사람들에게 추천할 만한 메뉴입니다. 분위기도 아늑하여 식사하기 좋은 곳입니다.\\n\\n3. **삼청동 수제비**  \\n   삼청동에 위치한 이 레스토랑은 전통적인 한국 음식인 수제비를 중심으로 다양한 메뉴를 제공합니다. 따뜻하고 풍성한 국물과 함께 먹는 신선한 수제비는 추운 날씨에 특히 잘 어울립니다. 아늑한 분위기에서 한국의 맛을 느낄 수 있는 곳입니다.\\n\\n이 세 곳은 서울의 다양한 전통 음식을 즐길 수 있는 장소로, 방문해 보시길 추천드립니다!', additional_kwargs={'refusal': None}, response_metadata={'token_usage': {'completion_tokens': 289, 'prompt_tokens': 28, 'total_tokens': 317, 'completion_tokens_details': {'accepted_prediction_tokens': 0, 'audio_tokens': 0, 'reasoning_tokens': 0, 'rejected_prediction_tokens': 0}, 'prompt_tokens_details': {'audio_tokens': 0, 'cached_tokens': 0}}, 'model_name': 'gpt-4o-mini-2024-07-18', 'system_fingerprint': 'fp_8bda4d3a2c', 'id': 'chatcmpl-CDLkVpBteGA2OmYOoVmMVIZzt9gzq', 'service_tier': 'default', 'finish_reason': 'stop', 'logprobs': None}, id='run--1a6a9a94-52fd-4ee5-bcfa-6f2ba2f4a6af-0', usage_metadata={'input_tokens': 28, 'output_tokens': 289, 'total_tokens': 317, 'input_token_details': {'audio': 0, 'cache_read': 0}, 'output_token_details': {'audio': 0, 'reasoning': 0}, 'total_cost': 0})"
      ]
     },
     "execution_count": 29,
     "metadata": {},
     "output_type": "execute_result"
    }
   ],
   "source": [
    "response"
   ]
  },
  {
   "cell_type": "code",
   "execution_count": null,
   "id": "d4ce4acd",
   "metadata": {},
   "outputs": [],
   "source": []
  }
 ],
 "metadata": {
  "kernelspec": {
   "display_name": "prompting_env",
   "language": "python",
   "name": "python3"
  },
  "language_info": {
   "codemirror_mode": {
    "name": "ipython",
    "version": 3
   },
   "file_extension": ".py",
   "mimetype": "text/x-python",
   "name": "python",
   "nbconvert_exporter": "python",
   "pygments_lexer": "ipython3",
   "version": "3.12.11"
  }
 },
 "nbformat": 4,
 "nbformat_minor": 5
}
