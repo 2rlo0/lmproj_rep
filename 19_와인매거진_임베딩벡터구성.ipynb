{
 "cells": [
  {
   "cell_type": "code",
   "execution_count": 1,
   "id": "e7a8af51",
   "metadata": {},
   "outputs": [],
   "source": [
    "from pinecone import Pinecone\n",
    "from dotenv import load_dotenv\n",
    "import os\n",
    "\n",
    "load_dotenv()\n",
    "\n",
    "pc = Pinecone(api_key=os.getenv(\"PINECONE_API_KEY\"))"
   ]
  },
  {
   "cell_type": "code",
   "execution_count": 4,
   "id": "50f6dabd",
   "metadata": {},
   "outputs": [
    {
     "data": {
      "text/plain": [
       "{'dimension': 1536,\n",
       " 'index_fullness': 0.0,\n",
       " 'metric': 'cosine',\n",
       " 'namespaces': {},\n",
       " 'total_vector_count': 0,\n",
       " 'vector_type': 'dense'}"
      ]
     },
     "execution_count": 4,
     "metadata": {},
     "output_type": "execute_result"
    }
   ],
   "source": [
    "index_name='wine-reviews'\n",
    "index = pc.Index(index_name)\n",
    "\n",
    "index.describe_index_stats()"
   ]
  },
  {
   "cell_type": "code",
   "execution_count": 5,
   "id": "22aa0c98",
   "metadata": {},
   "outputs": [
    {
     "name": "stdout",
     "output_type": "stream",
     "text": [
      "0 page_content=': 0\n",
      "country: Italy\n",
      "description: Aromas include tropical fruit, broom, brimstone and dried herb. The palate isn't overly expressive, offering unripened apple, citrus and dried sage alongside brisk acidity.\n",
      "designation: Vulkà Bianco\n",
      "points: 87\n",
      "price: \n",
      "province: Sicily & Sardinia\n",
      "region_1: Etna\n",
      "region_2: \n",
      "taster_name: Kerin O’Keefe\n",
      "taster_twitter_handle: @kerinokeefe\n",
      "title: Nicosia 2013 Vulkà Bianco  (Etna)\n",
      "variety: White Blend\n",
      "winery: Nicosia' metadata={'source': './winemag-data-130k-v2.csv', 'row': 0}\n",
      "1 page_content=': 1\n",
      "country: Portugal\n",
      "description: This is ripe and fruity, a wine that is smooth while still structured. Firm tannins are filled out with juicy red berry fruits and freshened with acidity. It's  already drinkable, although it will certainly be better from 2016.\n",
      "designation: Avidagos\n",
      "points: 87\n",
      "price: 15.0\n",
      "province: Douro\n",
      "region_1: \n",
      "region_2: \n",
      "taster_name: Roger Voss\n",
      "taster_twitter_handle: @vossroger\n",
      "title: Quinta dos Avidagos 2011 Avidagos Red (Douro)\n",
      "variety: Portuguese Red\n",
      "winery: Quinta dos Avidagos' metadata={'source': './winemag-data-130k-v2.csv', 'row': 1}\n",
      "2 page_content=': 2\n",
      "country: US\n",
      "description: Tart and snappy, the flavors of lime flesh and rind dominate. Some green pineapple pokes through, with crisp acidity underscoring the flavors. The wine was all stainless-steel fermented.\n",
      "designation: \n",
      "points: 87\n",
      "price: 14.0\n",
      "province: Oregon\n",
      "region_1: Willamette Valley\n",
      "region_2: Willamette Valley\n",
      "taster_name: Paul Gregutt\n",
      "taster_twitter_handle: @paulgwine\n",
      "title: Rainstorm 2013 Pinot Gris (Willamette Valley)\n",
      "variety: Pinot Gris\n",
      "winery: Rainstorm' metadata={'source': './winemag-data-130k-v2.csv', 'row': 2}\n"
     ]
    }
   ],
   "source": [
    "from langchain_community.document_loaders import CSVLoader\n",
    "\n",
    "loader = CSVLoader(\"./winemag-data-130k-v2.csv\")\n",
    "docs = loader.load()\n",
    "\n",
    "for i, doc in enumerate(docs[:3]):\n",
    "    print(str(i), doc)"
   ]
  },
  {
   "cell_type": "code",
   "execution_count": 6,
   "id": "7f2d286d",
   "metadata": {},
   "outputs": [
    {
     "data": {
      "text/plain": [
       "{'id': None,\n",
       " 'metadata': {'source': './winemag-data-130k-v2.csv', 'row': 0},\n",
       " 'page_content': \": 0\\ncountry: Italy\\ndescription: Aromas include tropical fruit, broom, brimstone and dried herb. The palate isn't overly expressive, offering unripened apple, citrus and dried sage alongside brisk acidity.\\ndesignation: Vulkà Bianco\\npoints: 87\\nprice: \\nprovince: Sicily & Sardinia\\nregion_1: Etna\\nregion_2: \\ntaster_name: Kerin O’Keefe\\ntaster_twitter_handle: @kerinokeefe\\ntitle: Nicosia 2013 Vulkà Bianco  (Etna)\\nvariety: White Blend\\nwinery: Nicosia\",\n",
       " 'type': 'Document'}"
      ]
     },
     "execution_count": 6,
     "metadata": {},
     "output_type": "execute_result"
    }
   ],
   "source": [
    "vars(docs[0])"
   ]
  },
  {
   "cell_type": "markdown",
   "id": "4b21f76e",
   "metadata": {},
   "source": [
    "# 벡터스토어를 이용해 임베딩 &  적재"
   ]
  },
  {
   "cell_type": "code",
   "execution_count": 10,
   "id": "a1d78dfa",
   "metadata": {},
   "outputs": [],
   "source": [
    "from langchain_openai import OpenAIEmbeddings\n",
    "\n",
    "embedding = OpenAIEmbeddings(model=\"text-embedding-3-small\")"
   ]
  },
  {
   "cell_type": "code",
   "execution_count": 14,
   "id": "780d2b85",
   "metadata": {},
   "outputs": [],
   "source": [
    "from langchain_pinecone import PineconeVectorStore\n",
    "\n",
    "vector_store = PineconeVectorStore.from_documents(\n",
    "    docs, \n",
    "    embedding, \n",
    "    index_name=\"wine-reviews\", \n",
    "    namespace=\"wine_reviews_ns1\"\n",
    ")"
   ]
  },
  {
   "cell_type": "code",
   "execution_count": 15,
   "id": "6ab0b68d",
   "metadata": {},
   "outputs": [
    {
     "data": {
      "text/plain": [
       "[Document(id='70ddbe83-4d3a-44a6-ae53-0c2ba67ed327', metadata={'row': 47937.0, 'source': './winemag-data-130k-v2.csv'}, page_content=': 47937\\ncountry: US\\ndescription: As sweet as honey, with Lifesaver candy pineapple, golden apricot preserves, Meyer lemon custard pie and Asian spice flavors. Calls for very rich fare, such as scallops sautéed in butter, served with a creamy risotto.\\ndesignation: \\npoints: 88\\nprice: 22.0\\nprovince: California\\nregion_1: Sonoma County\\nregion_2: Sonoma\\ntaster_name: \\ntaster_twitter_handle: \\ntitle: Wellington 2007 Roussanne (Sonoma County)\\nvariety: Roussanne\\nwinery: Wellington'),\n",
       " Document(id='81b3f8fb-689e-4a64-a7d0-3bc7642532d2', metadata={'row': 45019.0, 'source': './winemag-data-130k-v2.csv'}, page_content=\": 45019\\ncountry: US\\ndescription: Once again this designate amazes with a surfeit of beautifully integrated flavors. Mushrooms and baking spices adorn an explosion of strawberry pastries. There's plenty of ripe cherry fruit also, and a long, polished, lip-licking finish.\\ndesignation: Winderlea Vineyard\\npoints: 94\\nprice: 105.0\\nprovince: Oregon\\nregion_1: Dundee Hills\\nregion_2: Willamette Valley\\ntaster_name: Paul Gregutt\\ntaster_twitter_handle: @paulgwine\\ntitle: Adelsheim 2013 Winderlea Vineyard Pinot Noir (Dundee Hills)\\nvariety: Pinot Noir\\nwinery: Adelsheim\"),\n",
       " Document(id='efbc7515-c4ce-4292-a2b3-762c3016e971', metadata={'row': 28870.0, 'source': './winemag-data-130k-v2.csv'}, page_content=': 28870\\ncountry: US\\ndescription: A blend of Riesling, Muscat and Viognier, this wine offers aromas of white flowers, orange peel and citrus. It drinks off dry, with abundant mandarin flavors that linger.\\ndesignation: Chicken Dinner\\npoints: 87\\nprice: 16.0\\nprovince: Idaho\\nregion_1: \\nregion_2: \\ntaster_name: Sean P. Sullivan\\ntaster_twitter_handle: @wawinereport\\ntitle: Huston 2014 Chicken Dinner White\\nvariety: White Blend\\nwinery: Huston'),\n",
       " Document(id='cbc748b0-88d5-424f-9bf5-b9a3060fc5ab', metadata={'row': 101653.0, 'source': './winemag-data-130k-v2.csv'}, page_content=': 101653\\ncountry: South Africa\\ndescription: Low-intensity aromas of grilled apple, quince and pear purée dance on the bouquet, with a faint hint of straw in the background. Bright acidity and a pronounced citrus flavor results in a fresh and accessible mouthfeel, while the finish offers touches of toasted challah and clove. Drink now.\\ndesignation: Anima\\npoints: 90\\nprice: 15.0\\nprovince: Paarl\\nregion_1: \\nregion_2: \\ntaster_name: Lauren Buzzeo\\ntaster_twitter_handle: @laurbuzz\\ntitle: Avondale 2014 Anima Chenin Blanc (Paarl)\\nvariety: Chenin Blanc\\nwinery: Avondale'),\n",
       " Document(id='5fc7012a-8c0a-41e3-af02-508c3855198e', metadata={'row': 46509.0, 'source': './winemag-data-130k-v2.csv'}, page_content=': 46509\\ncountry: US\\ndescription: Somewhat subdued white flower, lime and peach aromas are followed by medium-sweet stone-fruit flavors. It goes down easy.\\ndesignation: Four Legged\\npoints: 86\\nprice: 15.0\\nprovince: Washington\\nregion_1: Washington\\nregion_2: Washington Other\\ntaster_name: Sean P. Sullivan\\ntaster_twitter_handle: @wawinereport\\ntitle: Dunham 2014 Four Legged White (Washington)\\nvariety: White Blend\\nwinery: Dunham')]"
      ]
     },
     "execution_count": 15,
     "metadata": {},
     "output_type": "execute_result"
    }
   ],
   "source": [
    "results = vector_store.similarity_search(\n",
    "    \"달콤한 맛을 느낄 수 있는 와인\", \n",
    "    k=5,\n",
    "    namespace=\"wine_reviews_ns1\"\n",
    ")\n",
    "\n",
    "results"
   ]
  },
  {
   "cell_type": "code",
   "execution_count": null,
   "id": "83b334ff",
   "metadata": {},
   "outputs": [],
   "source": []
  }
 ],
 "metadata": {
  "kernelspec": {
   "display_name": "prompting_env",
   "language": "python",
   "name": "python3"
  },
  "language_info": {
   "codemirror_mode": {
    "name": "ipython",
    "version": 3
   },
   "file_extension": ".py",
   "mimetype": "text/x-python",
   "name": "python",
   "nbconvert_exporter": "python",
   "pygments_lexer": "ipython3",
   "version": "3.12.11"
  }
 },
 "nbformat": 4,
 "nbformat_minor": 5
}
