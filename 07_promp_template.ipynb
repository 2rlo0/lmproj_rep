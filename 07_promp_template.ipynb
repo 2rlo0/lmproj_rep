{
 "cells": [
  {
   "cell_type": "markdown",
   "id": "813654b7",
   "metadata": {},
   "source": [
    "# prompt template"
   ]
  },
  {
   "cell_type": "code",
   "execution_count": 1,
   "id": "4afd3cc0",
   "metadata": {},
   "outputs": [
    {
     "data": {
      "text/plain": [
       "ChatOpenAI(client=<openai.resources.chat.completions.completions.Completions object at 0x000002022CFBFC80>, async_client=<openai.resources.chat.completions.completions.AsyncCompletions object at 0x000002022D088050>, root_client=<openai.OpenAI object at 0x000002022CB471D0>, root_async_client=<openai.AsyncOpenAI object at 0x000002022CB46FF0>, model_name='gpt-4o-mini', model_kwargs={}, openai_api_key=SecretStr('**********'))"
      ]
     },
     "execution_count": 1,
     "metadata": {},
     "output_type": "execute_result"
    }
   ],
   "source": [
    "from langchain_openai import ChatOpenAI\n",
    "llm = ChatOpenAI(model='gpt-4o-mini')\n",
    "llm"
   ]
  },
  {
   "cell_type": "code",
   "execution_count": 3,
   "id": "28a7c2ea",
   "metadata": {},
   "outputs": [
    {
     "data": {
      "text/plain": [
       "'서울에서 유명한 맛집을 알려주세요'"
      ]
     },
     "execution_count": 3,
     "metadata": {},
     "output_type": "execute_result"
    }
   ],
   "source": [
    "from langchain.prompts import PromptTemplate\n",
    "template = PromptTemplate.from_template(\"{city}에서 {adj} {topic}을 알려주세요\") \n",
    "prompt = template.format(city='서울', adj='유명한', topic='맛집')\n",
    "prompt"
   ]
  },
  {
   "cell_type": "code",
   "execution_count": 4,
   "id": "4d7d1bde",
   "metadata": {},
   "outputs": [
    {
     "data": {
      "text/plain": [
       "AIMessage(content='서울에는 다양한 맛집이 많아서 선택하기 어렵지만, 몇 가지 추천드릴게요!\\n\\n1. **백리향** - 중식 레스토랑으로, 딤섬과 짜장면이 유명합니다. 고급스러운 분위기에서 즐길 수 있습니다.\\n\\n2. **부라더스** - 이탈리안 레스토랑으로, 파스타와 피자가 인기 메뉴입니다. 신선한 재료를 사용하여 맛이 좋습니다.\\n\\n3. **김밥천국** - 간편하게 즐길 수 있는 김밥 전문점으로, 다양한 종류의 김밥과 사이드 메뉴가 인기입니다.\\n\\n4. **을지로 입구 회관** - 신선한 회를 먹을 수 있는 해산물 전문점입니다. 회와 함께 나오는 다양한 반찬도 맛있습니다.\\n\\n5. **안국동 한정식** - 전통 한정식 레스토랑으로, 다양한 반찬과 찌개가 함께 나오는 정갈한 한식을 제공합니다.\\n\\n6. **24시간 감자탕** - 언제든지 맛볼 수 있는 감자탕 전문점으로, 푸짐한 양과 진한 국물 맛이 일품입니다.\\n\\n서울의 거리마다 숨겨진 맛집이 많으니, 지역별로 검색해보시는 것도 좋습니다!', additional_kwargs={'refusal': None}, response_metadata={'token_usage': {'completion_tokens': 284, 'prompt_tokens': 16, 'total_tokens': 300, 'completion_tokens_details': {'accepted_prediction_tokens': 0, 'audio_tokens': 0, 'reasoning_tokens': 0, 'rejected_prediction_tokens': 0}, 'prompt_tokens_details': {'audio_tokens': 0, 'cached_tokens': 0}}, 'model_name': 'gpt-4o-mini-2024-07-18', 'system_fingerprint': 'fp_8bda4d3a2c', 'id': 'chatcmpl-CDLuv9wrJ9u2KfiRQxVUIth7Z1tru', 'service_tier': 'default', 'finish_reason': 'stop', 'logprobs': None}, id='run--d4848f75-b4d7-4d9d-b7e9-3990fa94d6f8-0', usage_metadata={'input_tokens': 16, 'output_tokens': 284, 'total_tokens': 300, 'input_token_details': {'audio': 0, 'cache_read': 0}, 'output_token_details': {'audio': 0, 'reasoning': 0}})"
      ]
     },
     "execution_count": 4,
     "metadata": {},
     "output_type": "execute_result"
    }
   ],
   "source": [
    "response = llm.invoke(prompt)\n",
    "response"
   ]
  },
  {
   "cell_type": "code",
   "execution_count": 5,
   "id": "71624174",
   "metadata": {},
   "outputs": [
    {
     "data": {
      "text/plain": [
       "'서울에는 다양한 맛집이 많아서 선택하기 어렵지만, 몇 가지 추천드릴게요!\\n\\n1. **백리향** - 중식 레스토랑으로, 딤섬과 짜장면이 유명합니다. 고급스러운 분위기에서 즐길 수 있습니다.\\n\\n2. **부라더스** - 이탈리안 레스토랑으로, 파스타와 피자가 인기 메뉴입니다. 신선한 재료를 사용하여 맛이 좋습니다.\\n\\n3. **김밥천국** - 간편하게 즐길 수 있는 김밥 전문점으로, 다양한 종류의 김밥과 사이드 메뉴가 인기입니다.\\n\\n4. **을지로 입구 회관** - 신선한 회를 먹을 수 있는 해산물 전문점입니다. 회와 함께 나오는 다양한 반찬도 맛있습니다.\\n\\n5. **안국동 한정식** - 전통 한정식 레스토랑으로, 다양한 반찬과 찌개가 함께 나오는 정갈한 한식을 제공합니다.\\n\\n6. **24시간 감자탕** - 언제든지 맛볼 수 있는 감자탕 전문점으로, 푸짐한 양과 진한 국물 맛이 일품입니다.\\n\\n서울의 거리마다 숨겨진 맛집이 많으니, 지역별로 검색해보시는 것도 좋습니다!'"
      ]
     },
     "execution_count": 5,
     "metadata": {},
     "output_type": "execute_result"
    }
   ],
   "source": [
    "response.content"
   ]
  },
  {
   "cell_type": "code",
   "execution_count": 6,
   "id": "2bc68cd4",
   "metadata": {},
   "outputs": [],
   "source": [
    "template.save('restaurant_tour_prompt.json') # 템플릿 객체 저장"
   ]
  },
  {
   "cell_type": "code",
   "execution_count": 8,
   "id": "32d43faa",
   "metadata": {},
   "outputs": [
    {
     "data": {
      "text/plain": [
       "'부산에서 가장 멋진 박물관을 알려주세요'"
      ]
     },
     "execution_count": 8,
     "metadata": {},
     "output_type": "execute_result"
    }
   ],
   "source": [
    "from langchain.prompts import load_prompt\n",
    "temp_load = load_prompt('restaurant_tour_prompt.json')\n",
    "prompt = temp_load.format(city='부산', adj='가장 멋진', topic='박물관')\n",
    "prompt"
   ]
  },
  {
   "cell_type": "markdown",
   "id": "1ff8eadc",
   "metadata": {},
   "source": [
    "# ChatPromptTemplate 누적 프롬프트 템플릿"
   ]
  },
  {
   "cell_type": "code",
   "execution_count": 9,
   "id": "94fe661f",
   "metadata": {},
   "outputs": [
    {
     "data": {
      "text/plain": [
       "ChatPromptTemplate(input_variables=['place', 'question', 'travel', 'when'], input_types={}, partial_variables={}, messages=[SystemMessagePromptTemplate(prompt=PromptTemplate(input_variables=[], input_types={}, partial_variables={}, template='당신은 베테랑 여행 가이드입니다. 고객 맞춤 여행일정 수립을 도와드립니다.'), additional_kwargs={}), HumanMessagePromptTemplate(prompt=PromptTemplate(input_variables=['place', 'travel', 'when'], input_types={}, partial_variables={}, template='{when}에 {place}로 {travel}을 계획중입니다.'), additional_kwargs={}), AIMessagePromptTemplate(prompt=PromptTemplate(input_variables=['place'], input_types={}, partial_variables={}, template='제가 {place}의 전문여행가이드입니다. 어떤 도움이 필요하세요?'), additional_kwargs={}), HumanMessagePromptTemplate(prompt=PromptTemplate(input_variables=['question'], input_types={}, partial_variables={}, template='{question}'), additional_kwargs={})])"
      ]
     },
     "execution_count": 9,
     "metadata": {},
     "output_type": "execute_result"
    }
   ],
   "source": [
    "from langchain.prompts import ChatPromptTemplate\n",
    "\n",
    "# 대화식 프롬프트 작성\n",
    "chat_template = ChatPromptTemplate.from_messages(\n",
    "    [\n",
    "        ('system', '당신은 베테랑 여행 가이드입니다. 고객 맞춤 여행일정 수립을 도와드립니다.'), \n",
    "        ('human', '{when}에 {place}로 {travel}을 계획중입니다.'), # 사용자 prompt\n",
    "        ('ai', '제가 {place}의 전문여행가이드입니다. 어떤 도움이 필요하세요?'), \n",
    "        ('human','{question}')\n",
    "    ]\n",
    ")\n",
    "chat_template"
   ]
  },
  {
   "cell_type": "code",
   "execution_count": 10,
   "id": "ebe1f233",
   "metadata": {},
   "outputs": [
    {
     "data": {
      "text/plain": [
       "[SystemMessage(content='당신은 베테랑 여행 가이드입니다. 고객 맞춤 여행일정 수립을 도와드립니다.', additional_kwargs={}, response_metadata={}),\n",
       " HumanMessage(content='가을에 제주로 자유여행을 계획중입니다.', additional_kwargs={}, response_metadata={}),\n",
       " AIMessage(content='제가 제주의 전문여행가이드입니다. 어떤 도움이 필요하세요?', additional_kwargs={}, response_metadata={}),\n",
       " HumanMessage(content='흥미로운 여행지 3곳 추천해주세요.', additional_kwargs={}, response_metadata={})]"
      ]
     },
     "execution_count": 10,
     "metadata": {},
     "output_type": "execute_result"
    }
   ],
   "source": [
    "final_prompt = chat_template.format_messages(when='가을', place='제주', travel='자유여행', question='흥미로운 여행지 3곳 추천해주세요.')\n",
    "final_prompt"
   ]
  },
  {
   "cell_type": "code",
   "execution_count": 11,
   "id": "32a84f64",
   "metadata": {},
   "outputs": [
    {
     "data": {
      "text/plain": [
       "AIMessage(content='제주의 아름다움과 매력을 느낄 수 있는 흥미로운 여행지 3곳을 추천드립니다.\\n\\n1. **한라산 국립공원**:\\n   - 한라산은 제주도의 중앙에 위치한 한국에서 가장 높은 산으로, 다양한 식물과 독특한 생태계가 어우러져 있습니다. 가을에는 단풍이 아름답게 물들어 hiking을 즐기기에 최적의 장소입니다. 성판악 또는 영실 코스를 이용해 정상까지 오르는 것을 추천합니다.\\n\\n2. **성산 일출봉**:\\n   - 제주 동쪽에 위치한 성산 일출봉은 UNESCO 세계자연유산으로 유명하며, 일출 명소로도 잘 알려져 있습니다. 정상에서 바라보는 일출의 풍경은 잊지 못할 경험입니다. 주변에 있는 섭지코지와 함께 가보기 좋습니다.\\n\\n3. **우도**:\\n   - 제주도에서 배를 타고 쉽게 갈 수 있는 작은 섬입니다. 우도는 아름다운 해변과 독특한 바위 절벽, 그리고 맛있는 땅콩 아이스크림으로 유명합니다. 자전거를 렌트해서 섬을 둘러보는 것이 인기있는 코스입니다. 가을의 시원한 날씨에 최고의 제주 풍경을 즐길 수 있습니다.\\n\\n이 세 곳을 포함하여 다양한 가을 풍경을 만끽해보세요! 추가적인 도움이 필요하시다면 언제든지 말씀해 주세요.', additional_kwargs={'refusal': None}, response_metadata={'token_usage': {'completion_tokens': 321, 'prompt_tokens': 82, 'total_tokens': 403, 'completion_tokens_details': {'accepted_prediction_tokens': 0, 'audio_tokens': 0, 'reasoning_tokens': 0, 'rejected_prediction_tokens': 0}, 'prompt_tokens_details': {'audio_tokens': 0, 'cached_tokens': 0}}, 'model_name': 'gpt-4o-mini-2024-07-18', 'system_fingerprint': 'fp_e665f7564b', 'id': 'chatcmpl-CDM6Iltd2XIyv58AJMvOJo5F8H6Ow', 'service_tier': 'default', 'finish_reason': 'stop', 'logprobs': None}, id='run--1197c69c-0318-4287-88c4-4c36333ea400-0', usage_metadata={'input_tokens': 82, 'output_tokens': 321, 'total_tokens': 403, 'input_token_details': {'audio': 0, 'cache_read': 0}, 'output_token_details': {'audio': 0, 'reasoning': 0}})"
      ]
     },
     "execution_count": 11,
     "metadata": {},
     "output_type": "execute_result"
    }
   ],
   "source": [
    "final_response = llm.invoke(final_prompt)\n",
    "final_response"
   ]
  },
  {
   "cell_type": "code",
   "execution_count": 12,
   "id": "be4872be",
   "metadata": {},
   "outputs": [
    {
     "data": {
      "text/plain": [
       "'제주의 아름다움과 매력을 느낄 수 있는 흥미로운 여행지 3곳을 추천드립니다.\\n\\n1. **한라산 국립공원**:\\n   - 한라산은 제주도의 중앙에 위치한 한국에서 가장 높은 산으로, 다양한 식물과 독특한 생태계가 어우러져 있습니다. 가을에는 단풍이 아름답게 물들어 hiking을 즐기기에 최적의 장소입니다. 성판악 또는 영실 코스를 이용해 정상까지 오르는 것을 추천합니다.\\n\\n2. **성산 일출봉**:\\n   - 제주 동쪽에 위치한 성산 일출봉은 UNESCO 세계자연유산으로 유명하며, 일출 명소로도 잘 알려져 있습니다. 정상에서 바라보는 일출의 풍경은 잊지 못할 경험입니다. 주변에 있는 섭지코지와 함께 가보기 좋습니다.\\n\\n3. **우도**:\\n   - 제주도에서 배를 타고 쉽게 갈 수 있는 작은 섬입니다. 우도는 아름다운 해변과 독특한 바위 절벽, 그리고 맛있는 땅콩 아이스크림으로 유명합니다. 자전거를 렌트해서 섬을 둘러보는 것이 인기있는 코스입니다. 가을의 시원한 날씨에 최고의 제주 풍경을 즐길 수 있습니다.\\n\\n이 세 곳을 포함하여 다양한 가을 풍경을 만끽해보세요! 추가적인 도움이 필요하시다면 언제든지 말씀해 주세요.'"
      ]
     },
     "execution_count": 12,
     "metadata": {},
     "output_type": "execute_result"
    }
   ],
   "source": [
    "final_response.content"
   ]
  },
  {
   "cell_type": "code",
   "execution_count": 13,
   "id": "d5911eae",
   "metadata": {},
   "outputs": [
    {
     "data": {
      "text/plain": [
       "'당신은 동남아 베테랑 여행 가이드입니다. 고객 맞춤 여행일정 수립을 도와드립니다.12월에 가족여행을 계획중입니다.'"
      ]
     },
     "execution_count": 13,
     "metadata": {},
     "output_type": "execute_result"
    }
   ],
   "source": [
    "prompt_1 = PromptTemplate.from_template('당신은 {place} 베테랑 여행 가이드입니다. 고객 맞춤 여행일정 수립을 도와드립니다.')\n",
    "prompt_2 = PromptTemplate.from_template('{when}에 {travel}을 계획중입니다.')\n",
    "\n",
    "concat_prompt = prompt_1 + prompt_2\n",
    "concat_prompt.format(place = '동남아', when='12월', travel='가족여행')"
   ]
  },
  {
   "cell_type": "code",
   "execution_count": null,
   "id": "55deb3b0",
   "metadata": {},
   "outputs": [],
   "source": []
  }
 ],
 "metadata": {
  "kernelspec": {
   "display_name": "prompting_env",
   "language": "python",
   "name": "python3"
  },
  "language_info": {
   "codemirror_mode": {
    "name": "ipython",
    "version": 3
   },
   "file_extension": ".py",
   "mimetype": "text/x-python",
   "name": "python",
   "nbconvert_exporter": "python",
   "pygments_lexer": "ipython3",
   "version": "3.12.11"
  }
 },
 "nbformat": 4,
 "nbformat_minor": 5
}
