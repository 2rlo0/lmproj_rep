{
 "cells": [
  {
   "cell_type": "code",
   "execution_count": 3,
   "id": "dea7dfc7",
   "metadata": {},
   "outputs": [
    {
     "data": {
      "text/plain": [
       "ChatPromptTemplate(input_variables=['image_url', 'text'], input_types={}, partial_variables={}, messages=[SystemMessagePromptTemplate(prompt=PromptTemplate(input_variables=[], input_types={}, partial_variables={}, template='ou are an expert sommelier with extensive knowledge in wine, wine pairing, and \\nthe intricacies of food and beverage service. Your primary role is to assist users \\nin selecting the best wines and pairing them perfectly with meals. You have a deep \\nunderstanding of various wine regions, grape varieties, wine production methods, and \\ncurrent trends in the industry. You possess a refined palate, able to discern subtle \\nflavors and characteristics in wines. Your advice is always clear, approachable, and \\ntailored to each user’s preferences and specific dining context. You also educate users \\non wine appreciation, proper wine service, and the art of creating a harmonious dining \\nexperience. Your demeanor is professional, courteous, and passionate about wine culture, \\naiming to make each wine selection and pairing a memorable experience for users.'), additional_kwargs={}), HumanMessagePromptTemplate(prompt=[PromptTemplate(input_variables=['text'], input_types={}, partial_variables={}, template='{text}'), ImagePromptTemplate(input_variables=['image_url'], input_types={}, partial_variables={}, template={'url': '{image_url}'})], additional_kwargs={})])"
      ]
     },
     "execution_count": 3,
     "metadata": {},
     "output_type": "execute_result"
    }
   ],
   "source": [
    "from langchain.prompts import ChatPromptTemplate\n",
    "SYSTEM_PPROMPT = \"ou are an expert sommelier with extensive knowledge in wine, wine pairing, and \\nthe intricacies of food and beverage service. Your primary role is to assist users \\nin selecting the best wines and pairing them perfectly with meals. You have a deep \\nunderstanding of various wine regions, grape varieties, wine production methods, and \\ncurrent trends in the industry. You possess a refined palate, able to discern subtle \\nflavors and characteristics in wines. Your advice is always clear, approachable, and \\ntailored to each user’s preferences and specific dining context. You also educate users \\non wine appreciation, proper wine service, and the art of creating a harmonious dining \\nexperience. Your demeanor is professional, courteous, and passionate about wine culture, \\naiming to make each wine selection and pairing a memorable experience for users.\"\n",
    "wine_query = \"이 와인에 어울리는 요리에는 어떤 것들이 있을까요?\"\n",
    "\n",
    "chat_template = ChatPromptTemplate.from_messages(\n",
    "    [\n",
    "        ('system', SYSTEM_PPROMPT), # system\n",
    "        ('human', [{'text':'text','text':'{text}'}, # user\n",
    "                   {'type':'image_url', 'image_url':{'url':'{image_url}'}}])\n",
    "    ]\n",
    ")\n",
    "\n",
    "chat_template"
   ]
  },
  {
   "cell_type": "code",
   "execution_count": 10,
   "id": "16f87432",
   "metadata": {},
   "outputs": [],
   "source": [
    "from langchain_openai import ChatOpenAI\n",
    "llm = ChatOpenAI(\n",
    "    model=\"gpt-4o-mini\",\n",
    "    temperature=0,\n",
    "    max_tokens=2048\n",
    ")"
   ]
  },
  {
   "cell_type": "code",
   "execution_count": 11,
   "id": "70025396",
   "metadata": {},
   "outputs": [],
   "source": [
    "from langchain_core.output_parsers import StrOutputParser\n",
    "output_parser = StrOutputParser()"
   ]
  },
  {
   "cell_type": "markdown",
   "id": "a74765c0",
   "metadata": {},
   "source": [
    "# recomment_dish_chain 용 랭체인 프롬프트"
   ]
  },
  {
   "cell_type": "code",
   "execution_count": 12,
   "id": "25e0dd77",
   "metadata": {},
   "outputs": [
    {
     "data": {
      "text/plain": [
       "'Masserì Primitivo는 풍부한 과일 향과 부드러운 탄닌이 특징인 레드 와인입니다. 이 와인에 어울리는 요리는 다음과 같습니다:\\n\\n1. **고기 요리**: 양고기, 소고기 스테이크, 또는 바베큐와 잘 어울립니다. 특히, 구운 고기나 스파이시한 소스가 있는 요리와 조화롭습니다.\\n\\n2. **파스타**: 토마토 소스나 고기 소스가 들어간 파스타 요리, 예를 들어 라자냐나 볼로네제와 잘 어울립니다.\\n\\n3. **치즈**: 숙성된 치즈, 특히 파르미지아노 레지아노나 고르곤졸라와 같은 강한 맛의 치즈와 잘 맞습니다.\\n\\n4. **스튜**: 고기와 채소가 함께 조리된 스튜, 특히 이탈리안 스타일의 스튜와 잘 어울립니다.\\n\\n5. **피자**: 다양한 토핑이 있는 피자, 특히 고기 토핑이 있는 피자와 좋은 조화를 이룹니다.\\n\\n이 와인은 풍부한 맛을 가지고 있어 다양한 요리와 잘 어울리므로, 여러 가지 조합을 시도해 보시는 것도 좋습니다!'"
      ]
     },
     "execution_count": 12,
     "metadata": {},
     "output_type": "execute_result"
    }
   ],
   "source": [
    "chain = chat_template | llm | output_parser\n",
    "response = chain.invoke(\n",
    "    {\n",
    "        'text':wine_query,\n",
    "        'image_url' : \"https://images.vivino.com/thumbs/Z90I3--JRKWlpMA8wdLY-Q_pb_x600.png\"\n",
    "    }\n",
    ")\n",
    "response"
   ]
  },
  {
   "cell_type": "code",
   "execution_count": 26,
   "id": "4b3990a0",
   "metadata": {},
   "outputs": [],
   "source": [
    "def recommend_dishes_chain(query):\n",
    "    \n",
    "    chat_template = ChatPromptTemplate.from_messages(\n",
    "        [\n",
    "            ('system', SYSTEM_PPROMPT), # system\n",
    "            ('human', [{'text':'text','text':query['text']}, # user\n",
    "                    {'type':'image_url', 'image_url': query['image_url']}])\n",
    "        ]\n",
    "    )\n",
    "    chain = chat_template | llm | output_parser\n",
    "    return chain"
   ]
  },
  {
   "cell_type": "code",
   "execution_count": 27,
   "id": "94b555a3",
   "metadata": {},
   "outputs": [],
   "source": [
    "query_1 = {\n",
    "    'text':wine_query,\n",
    "    'image_url': \"https://images.vivino.com/thumbs/Z90I3--JRKWlpMA8wdLY-Q_pb_x600.png\"\n",
    "}\n",
    "rec_dish_chain = recommend_dishes_chain(query_1)"
   ]
  },
  {
   "cell_type": "code",
   "execution_count": 28,
   "id": "3d093b86",
   "metadata": {},
   "outputs": [
    {
     "data": {
      "text/plain": [
       "'Masserì Primitivo는 풍부한 과일 향과 부드러운 탄닌을 가진 레드 와인으로, 다양한 요리와 잘 어울립니다. 다음은 이 와인과 잘 어울리는 요리 몇 가지입니다:\\n\\n1. **구운 고기 요리**: 양고기, 소고기 스테이크, 또는 바베큐와 같은 구운 고기 요리와 잘 어울립니다.\\n2. **파스타**: 토마토 소스나 고기 소스가 들어간 파스타 요리, 예를 들어 라자냐나 볼로네제와 잘 맞습니다.\\n3. **치즈**: 숙성된 치즈, 특히 파르미지아노 레지아노나 고르곤졸라와 같은 강한 맛의 치즈와 조화롭습니다.\\n4. **이탈리안 요리**: 리조또, 특히 버섯 리조또와 같은 이탈리안 요리와도 잘 어울립니다.\\n5. **스파이시 요리**: 매운 소스가 들어간 요리, 예를 들어 타코나 부리토와 같은 멕시코 요리와도 좋은 조합입니다.\\n\\n이 와인은 다양한 요리와 잘 어울리므로, 개인의 취향에 맞춰 다양한 조합을 시도해 보시는 것도 좋습니다!'"
      ]
     },
     "execution_count": 28,
     "metadata": {},
     "output_type": "execute_result"
    }
   ],
   "source": [
    "rec_dish_chain.invoke(query_1)"
   ]
  },
  {
   "cell_type": "code",
   "execution_count": 29,
   "id": "1ec30509",
   "metadata": {},
   "outputs": [
    {
     "data": {
      "text/plain": [
       "'Masserì Primitivo는 풍부한 과일 향과 부드러운 탄닌을 가진 레드 와인으로, 다양한 요리와 잘 어울립니다. 다음은 이 와인과 잘 어울리는 요리 몇 가지입니다:\\n\\n1. **구운 고기 요리**: 양고기, 소고기 스테이크, 또는 바베큐와 같은 구운 고기 요리와 잘 어울립니다.\\n2. **파스타**: 토마토 소스나 고기 소스가 들어간 파스타 요리, 예를 들어 라자냐나 볼로네제와 잘 맞습니다.\\n3. **치즈**: 숙성된 치즈, 특히 파르미지아노 레지아노나 고르곤졸라와 같은 강한 맛의 치즈와 조화롭습니다.\\n4. **스튜**: 고기와 채소가 함께 조리된 스튜, 특히 이탈리안 스타일의 스튜와 잘 어울립니다.\\n5. **피자**: 다양한 토핑이 있는 피자, 특히 고기 토핑이 있는 피자와 잘 어울립니다.\\n\\n이 와인은 풍부한 맛을 가지고 있어 다양한 요리와의 조화가 뛰어나므로, 여러 가지 요리를 시도해 보시는 것도 좋습니다!'"
      ]
     },
     "execution_count": 29,
     "metadata": {},
     "output_type": "execute_result"
    }
   ],
   "source": [
    "from langchain_core.runnables import RunnableLambda\n",
    "runnable = RunnableLambda(recommend_dishes_chain)\n",
    "response = runnable.invoke(query_1)\n",
    "response"
   ]
  },
  {
   "cell_type": "markdown",
   "id": "333b2e5a",
   "metadata": {},
   "source": [
    "# describe_dish_flavor_chain 용 랭체인 프롬프트"
   ]
  },
  {
   "cell_type": "code",
   "execution_count": 42,
   "id": "f2602c86",
   "metadata": {},
   "outputs": [],
   "source": [
    "dish_system_prompt = \"\"\"\n",
    "            Persona:\n",
    "            As a flavor analysis system, I am equipped with a deep understanding of food ingredients, cooking methods, and sensory properties such as taste, texture, and aroma. I can assess and break down the flavor profiles of dishes by identifying the dominant tastes (sweet, sour, salty, bitter, umami) as well as subtler elements like spice levels, richness, freshness, and aftertaste. I am able to compare different foods based on their ingredients and cooking techniques, while also considering cultural influences and typical pairings. My goal is to provide a detailed analysis of a dish’s flavor profile to help users better understand what makes it unique or to aid in choosing complementary foods and drinks.\n",
    "\n",
    "            Role:\n",
    "\n",
    "            1. Flavor Identification: I analyze the dominant and secondary flavors of a dish, highlighting key taste elements such as sweetness, acidity, bitterness, saltiness, umami, and the presence of spices or herbs.\n",
    "            2. Texture and Aroma Analysis: Beyond taste, I assess the mouthfeel and aroma of the dish, taking into account how texture (e.g., creamy, crunchy) and scents (e.g., smoky, floral) contribute to the overall experience.\n",
    "            3. Ingredient Breakdown: I evaluate the role each ingredient plays in the dish’s flavor, including their impact on the dish's balance, richness, or intensity.\n",
    "            4. Culinary Influence: I consider the cultural or regional influences that shape the dish, understanding how traditional cooking methods or unique ingredients affect the overall taste.\n",
    "            5. Food and Drink Pairing: Based on the dish's flavor profile, I suggest complementary food or drink pairings that enhance or balance the dish’s qualities.\n",
    "\n",
    "            Examples:\n",
    "\n",
    "            - Dish Flavor Breakdown:\n",
    "            For a butter garlic shrimp, I identify the richness from the butter, the pungent aroma of garlic, and the subtle sweetness of the shrimp. The dish balances richness with a touch of saltiness, and the soft, tender texture of the shrimp is complemented by the slight crispness from grilling.\n",
    "\n",
    "            - Texture and Aroma Analysis:\n",
    "            A creamy mushroom risotto has a smooth, velvety texture due to the creamy broth and butter. The earthy aroma from the mushrooms enhances the umami flavor, while a sprinkle of Parmesan adds a savory touch with a mild sharpness.\n",
    "\n",
    "            - Ingredient Role Assessment:\n",
    "            In a spicy Thai curry, the coconut milk provides a rich, creamy base, while the lemongrass and lime add freshness and citrus notes. The chilies bring the heat, and the balance between sweet, sour, and spicy elements creates a dynamic flavor profile.\n",
    "\n",
    "            - Cultural Influence:\n",
    "            A traditional Italian margherita pizza draws on the classic combination of fresh tomatoes, mozzarella, and basil. The simplicity of the ingredients allows the flavors to shine, with the tanginess of the tomato sauce balancing the richness of the cheese and the freshness of the basil.\n",
    "\n",
    "            - Food Pairing Example:\n",
    "            For a rich chocolate cake, I would recommend a sweet dessert wine like Port to complement the bitterness of the chocolate, or a light espresso to contrast the sweetness and enhance the richness of the dessert.\n",
    "        \"\"\""
   ]
  },
  {
   "cell_type": "code",
   "execution_count": 43,
   "id": "0b5279ec",
   "metadata": {},
   "outputs": [],
   "source": [
    "def describe_dish_flavor_chain(query):\n",
    "    # 이미지가 있는 경우와 없는 경우를 구분하여 처리\n",
    "    if query.get(\"image_urls\"):\n",
    "        # 이미지가 있는 경우: 멀티모달 프롬프트\n",
    "        messages = [\n",
    "            (\"system\", dish_system_prompt),\n",
    "            (\"human\", [ #\"human\" 으로 해도 무방 - 역할 태그의 차이가 크지 않음\n",
    "                {\"type\": \"text\", \"text\": \"이 요리의 이름과 맛을 한 문장으로 요약해주세요.\"},\n",
    "                *[{\"type\": \"image_url\", \"image_url\": {\"url\": url}} for url in query[\"image_urls\"]]\n",
    "            ])\n",
    "        ]\n",
    "    else:\n",
    "        # 텍스트만 있는 경우 (이미지 없이는 요리 설명이 어려우므로 안내 메시지)\n",
    "        messages = [\n",
    "            (\"system\", dish_system_prompt),\n",
    "            (\"user\", \"요리 이미지가 제공되지 않았습니다. 요리 이미지를 업로드해주시면 정확한 분석을 도와드리겠습니다.\")\n",
    "        ]\n",
    "    \n",
    "    prompt = ChatPromptTemplate.from_messages(messages)\n",
    "    output_parser = StrOutputParser()\n",
    "    \n",
    "    chain = prompt | llm | output_parser\n",
    "    return chain"
   ]
  },
  {
   "cell_type": "code",
   "execution_count": 44,
   "id": "aea68eff",
   "metadata": {},
   "outputs": [
    {
     "name": "stdout",
     "output_type": "stream",
     "text": [
      "이 요리는 피스타치오 오트바(ar)로, 고소한 피스타치오와 달콤한 오트밀이 어우러져 씹는 맛과 풍미가 조화를 이루는 건강한 간식입니다.\n"
     ]
    }
   ],
   "source": [
    "runnable = RunnableLambda(describe_dish_flavor_chain)\n",
    "response = runnable.invoke({\n",
    "    \"image_urls\": [\"https://www.stockfood.com/Sites/StockFood/Documents/Homepage/News//en/16.jpg\"]\n",
    "})\n",
    "\n",
    "print(response)"
   ]
  },
  {
   "cell_type": "code",
   "execution_count": null,
   "id": "9bc207d2",
   "metadata": {},
   "outputs": [],
   "source": []
  }
 ],
 "metadata": {
  "kernelspec": {
   "display_name": "prompting_env",
   "language": "python",
   "name": "python3"
  },
  "language_info": {
   "codemirror_mode": {
    "name": "ipython",
    "version": 3
   },
   "file_extension": ".py",
   "mimetype": "text/x-python",
   "name": "python",
   "nbconvert_exporter": "python",
   "pygments_lexer": "ipython3",
   "version": "3.12.11"
  }
 },
 "nbformat": 4,
 "nbformat_minor": 5
}
